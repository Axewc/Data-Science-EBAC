 {
 "cells": [
  {
   "cell_type": "markdown",
   "metadata": {},
   "source": [
    "# Programación Orientada a Objetos en Python\n",
    "\n",
    "## Sobre el trayecto\n",
    "\n",
    "En este módulo, aprenderás sobre la Programación Orientada a Objetos (POO) en Python, desde conceptos básicos hasta aplicaciones avanzadas.\n",
    "\n",
    "### Objetivos de aprendizaje\n",
    "\n",
    "- Comprender los conceptos fundamentales de POO\n",
    "- Dominar la creación de clases y objetos\n",
    "- Aprender sobre constructores y métodos\n",
    "- Implementar herencia y polimorfismo\n",
    "- Aplicar encapsulamiento y abstracción"
   ]
  },
  {
   "cell_type": "markdown",
   "metadata": {},
   "source": [
    "## Conceptos Fundamentales de POO\n",
    "\n",
    "### 1. Clases y Objetos\n",
    "\n",
    "Una clase es una plantilla que define las características y comportamientos de un objeto. Un objeto es una instancia de una clase."
   ]
  },
  {
   "cell_type": "code",
   "execution_count": null,
   "metadata": {},
   "source": [
    "# Definición de una clase básica\n",
    "class Perro:\n",
    "    # Atributos de clase\n",
    "    especie = \"Canis lupus familiaris\"\n",
    "    \n",
    "    # Constructor\n",
    "    def __init__(self, nombre, edad):\n",
    "        # Atributos de instancia\n",
    "        self.nombre = nombre\n",
    "        self.edad = edad\n",
    "    \n",
    "    # Métodos\n",
    "    def ladrar(self):\n",
    "        return f\"¡{self.nombre} dice: Guau!\"\n",
    "    \n",
    "    def describir(self):\n",
    "        return f\"{self.nombre} es un perro de {self.edad} años\"\n",
    "\n",
    "# Crear objetos (instancias)\n",
    "perro1 = Perro(\"Firulais\", 3)\n",
    "perro2 = Perro(\"Luna\", 5)\n",
    "\n",
    "print(perro1.ladrar())\n",
    "print(perro2.describir())"
   ]
  },
  {
   "cell_type": "markdown",
   "metadata": {},
   "source": [
    "### 2. Constructores y Métodos\n",
    "\n",
    "El constructor (`__init__`) inicializa los atributos del objeto, mientras que los métodos definen su comportamiento."
   ]
  },
  {
   "cell_type": "code",
   "execution_count": null,
   "metadata": {},
   "source": [
    "class Estudiante:\n",
    "    def __init__(self, nombre, edad, curso):\n",
    "        self.nombre = nombre\n",
    "        self.edad = edad\n",
    "        self.curso = curso\n",
    "        self.notas = []\n",
    "    \n",
    "    def agregar_nota(self, nota):\n",
    "        if 0 <= nota <= 10:\n",
    "            self.notas.append(nota)\n",
    "        else:\n",
    "            raise ValueError(\"La nota debe estar entre 0 y 10\")\n",
    "    \n",
    "    def calcular_promedio(self):\n",
    "        if not self.notas:\n",
    "            return 0\n",
    "        return sum(self.notas) / len(self.notas)\n",
    "    \n",
    "    def __str__(self):\n",
    "        return f\"{self.nombre} ({self.edad} años) - Curso: {self.curso}\"\n",
    "\n",
    "# Ejemplo de uso\n",
    "estudiante = Estudiante(\"Ana\", 20, \"Python\")\n",
    "estudiante.agregar_nota(8.5)\n",
    "estudiante.agregar_nota(9.0)\n",
    "print(estudiante)\n",
    "print(f\"Promedio: {estudiante.calcular_promedio()}\")"
   ]
  },
  {
   "cell_type": "markdown",
   "metadata": {},
   "source": [
    "### 3. Encapsulamiento\n",
    "\n",
    "El encapsulamiento protege los datos y métodos de una clase usando modificadores de acceso."
   ]
  },
  {
   "cell_type": "code",
   "execution_count": null,
   "metadata": {},
   "source": [
    "class CuentaBancaria:\n",
    "    def __init__(self, titular, saldo_inicial=0):\n",
    "        self._titular = titular  # Atributo protegido\n",
    "        self.__saldo = saldo_inicial  # Atributo privado\n",
    "    \n",
    "    def depositar(self, cantidad):\n",
    "        if cantidad > 0:\n",
    "            self.__saldo += cantidad\n",
    "            return True\n",
    "        return False\n",
    "    \n",
    "    def retirar(self, cantidad):\n",
    "        if 0 < cantidad <= self.__saldo:\n",
    "            self.__saldo -= cantidad\n",
    "            return True\n",
    "        return False\n",
    "    \n",
    "    def obtener_saldo(self):\n",
    "        return self.__saldo\n",
    "\n",
    "# Ejemplo de uso\n",
    "cuenta = CuentaBancaria(\"Juan\", 1000)\n",
    "cuenta.depositar(500)\n",
    "print(f\"Saldo actual: {cuenta.obtener_saldo()}\")"
   ]
  },
  {
   "cell_type": "markdown",
   "metadata": {},
   "source": [
    "### 4. Herencia\n",
    "\n",
    "La herencia permite crear nuevas clases basadas en clases existentes."
   ]
  },
  {
   "cell_type": "code",
   "execution_count": null,
   "metadata": {},
   "source": [
    "class Animal:\n",
    "    def __init__(self, nombre, edad):\n",
    "        self.nombre = nombre\n",
    "        self.edad = edad\n",
    "    \n",
    "    def hacer_sonido(self):\n",
    "        pass\n",
    "\n",
    "class Perro(Animal):\n",
    "    def hacer_sonido(self):\n",
    "        return \"¡Guau!\"\n",
    "\n",
    "class Gato(Animal):\n",
    "    def hacer_sonido(self):\n",
    "        return \"¡Miau!\"\n",
    "\n",
    "# Ejemplo de uso\n",
    "perro = Perro(\"Firulais\", 3)\n",
    "gato = Gato(\"Luna\", 2)\n",
    "\n",
    "print(f\"El perro dice: {perro.hacer_sonido()}\")\n",
    "print(f\"El gato dice: {gato.hacer_sonido()}\")"
   ]
  },
  {
   "cell_type": "markdown",
   "metadata": {},
   "source": [
    "### 5. Polimorfismo\n",
    "\n",
    "El polimorfismo permite que diferentes clases respondan al mismo método de manera diferente."
   ]
  },
  {
   "cell_type": "code",
   "execution_count": null,
   "metadata": {},
   "source": [
    "class Figura:\n",
    "    def calcular_area(self):\n",
    "        pass\n",
    "\n",
    "class Cuadrado(Figura):\n",
    "    def __init__(self, lado):\n",
    "        self.lado = lado\n",
    "    \n",
    "    def calcular_area(self):\n",
    "        return self.lado ** 2\n",
    "\n",
    "class Circulo(Figura):\n",
    "    def __init__(self, radio):\n",
    "        self.radio = radio\n",
    "    \n",
    "    def calcular_area(self):\n",
    "        return 3.14159 * self.radio ** 2\n",
    "\n",
    "# Ejemplo de uso\n",
    "figuras = [Cuadrado(5), Circulo(3)]\n",
    "for figura in figuras:\n",
    "    print(f\"Área: {figura.calcular_area()}\")"
   ]
  },
  {
   "cell_type": "markdown",
   "metadata": {},
   "source": [
    "## Buenas Prácticas\n",
    "\n",
    "1. **Nombres descriptivos**: Usar nombres claros para clases y métodos\n",
    "2. **Responsabilidad única**: Cada clase debe tener una única responsabilidad\n",
    "3. **Encapsulamiento**: Proteger los atributos y métodos internos\n",
    "4. **Documentación**: Incluir docstrings explicando el propósito de la clase\n",
    "5. **Métodos mágicos**: Usar métodos especiales de Python cuando sea apropiado"
   ]
  },
  {
   "cell_type": "code",
   "execution_count": null,
   "metadata": {},
   "source": [
    "class Libro:\n",
    "    \"\"\"\n",
    "    Clase que representa un libro en una biblioteca.\n",
    "    \n",
    "    Attributes:\n",
    "        titulo (str): Título del libro\n",
    "        autor (str): Nombre del autor\n",
    "        isbn (str): Número ISBN del libro\n",
    "        disponible (bool): Estado de disponibilidad\n",
    "    \"\"\"\n",
    "    \n",
    "    def __init__(self, titulo, autor, isbn):\n",
    "        self.titulo = titulo\n",
    "        self.autor = autor\n",
    "        self.isbn = isbn\n",
    "        self.disponible = True\n",
    "    \n",
    "    def prestar(self):\n",
    "        if self.disponible:\n",
    "            self.disponible = False\n",
    "            return True\n",
    "        return False\n",
    "    \n",
    "    def devolver(self):\n",
    "        if not self.disponible:\n",
    "            self.disponible = True\n",
    "            return True\n",
    "        return False\n",
    "    \n",
    "    def __str__(self):\n",
    "        estado = \"disponible\" if self.disponible else \"prestado\"\n",
    "        return f\"{self.titulo} por {self.autor} ({estado})\""
   ]
  }
 ],
 "metadata": {
  "kernelspec": {
   "display_name": "Python 3",
   "language": "python",
   "name": "python3"
  },
  "language_info": {
   "codemirror_mode": {
    "name": "ipython",
    "version": 3
   },
   "file_extension": ".py",
   "mimetype": "text/x-python",
   "name": "python",
   "nbconvert_exporter": "python",
   "pygments_lexer": "ipython3",
   "version": "3.8.0"
  }
 },
 "nbformat": 4,
 "nbformat_minor": 4
}