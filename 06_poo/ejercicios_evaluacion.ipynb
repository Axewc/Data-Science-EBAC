{
 "cells": [
  {
   "cell_type": "markdown",
   "metadata": {},
   "source": [
    "# Ejercicios de Evaluación - Programación Orientada a Objetos\n",
    "\n",
    "## Instrucciones\n",
    "\n",
    "1. Lea cuidadosamente cada pregunta\n",
    "2. Complete el código donde se indique\n",
    "3. Asegúrese de que su código maneje todos los casos posibles\n",
    "4. Incluya comentarios explicativos en su código\n",
    "5. Pruebe su código con diferentes casos de entrada"
   ]
  },
  {
   "cell_type": "markdown",
   "metadata": {},
   "source": [
    "## Ejercicio 1: Clase Cuenta Bancaria\n",
    "\n",
    "Complete la clase `CuentaBancaria` que debe:\n",
    "1. Tener atributos privados para saldo y titular\n",
    "2. Implementar métodos para depositar y retirar dinero\n",
    "3. Validar que no se pueda retirar más dinero del disponible\n",
    "4. Incluir un método para obtener el saldo actual"
   ]
  },
  {
   "cell_type": "code",
   "execution_count": null,
   "metadata": {},
   "source": [
    "class CuentaBancaria:\n",
    "    # Su código aquí\n",
    "    pass\n",
    "\n",
    "# Pruebas\n",
    "cuenta = CuentaBancaria(\"Juan Pérez\", 1000)\n",
    "assert cuenta.depositar(500) == True\n",
    "assert cuenta.retirar(200) == True\n",
    "assert cuenta.obtener_saldo() == 1300\n",
    "assert cuenta.retirar(2000) == False\n",
    "print(\"¡Todas las pruebas pasaron!\")"
   ]
  },
  {
   "cell_type": "markdown",
   "metadata": {},
   "source": [
    "## Ejercicio 2: Clase Estudiante con Herencia\n",
    "\n",
    "Complete las clases `Estudiante` y `EstudianteGrado` que deben:\n",
    "1. Estudiante: nombre, edad, notas\n",
    "2. EstudianteGrado: hereda de Estudiante y agrega carrera y semestre\n",
    "3. Implementar métodos para calcular promedio y estado académico"
   ]
  },
  {
   "cell_type": "code",
   "execution_count": null,
   "metadata": {},
   "source": [
    "class Estudiante:\n",
    "    # Su código aquí\n",
    "    pass\n",
    "\n",
    "class EstudianteGrado(Estudiante):\n",
    "    # Su código aquí\n",
    "    pass\n",
    "\n",
    "# Pruebas\n",
    "estudiante = EstudianteGrado(\"Ana López\", 20, \"Ingeniería\", 5)\n",
    "estudiante.agregar_nota(8.5)\n",
    "estudiante.agregar_nota(9.0)\n",
    "assert estudiante.calcular_promedio() == 8.75\n",
    "assert estudiante.estado_academico() == \"Aprobado\"\n",
    "print(\"¡Todas las pruebas pasaron!\")"
   ]
  },
  {
   "cell_type": "markdown",
   "metadata": {},
   "source": [
    "## Ejercicio 3: Clase Figura con Polimorfismo\n",
    "\n",
    "Complete las clases `Figura`, `Cuadrado` y `Circulo` que deben:\n",
    "1. Figura: clase abstracta con métodos para área y perímetro\n",
    "2. Cuadrado: implementa los métodos para un cuadrado\n",
    "3. Circulo: implementa los métodos para un círculo"
   ]
  },
  {
   "cell_type": "code",
   "execution_count": null,
   "metadata": {},
   "source": [
    "from abc import ABC, abstractmethod\n",
    "import math\n",
    "\n",
    "class Figura(ABC):\n",
    "    # Su código aquí\n",
    "    pass\n",
    "\n",
    "class Cuadrado(Figura):\n",
    "    # Su código aquí\n",
    "    pass\n",
    "\n",
    "class Circulo(Figura):\n",
    "    # Su código aquí\n",
    "    pass\n",
    "\n",
    "# Pruebas\n",
    "cuadrado = Cuadrado(5)\n",
    "circulo = Circulo(3)\n",
    "assert cuadrado.calcular_area() == 25\n",
    "assert cuadrado.calcular_perimetro() == 20\n",
    "assert abs(circulo.calcular_area() - 28.27) < 0.01\n",
    "assert abs(circulo.calcular_perimetro() - 18.85) < 0.01\n",
    "print(\"¡Todas las pruebas pasaron!\")"
   ]
  },
  {
   "cell_type": "markdown",
   "metadata": {},
   "source": [
    "## Ejercicio 4: Clase Producto con Encapsulamiento\n",
    "\n",
    "Complete la clase `Producto` que debe:\n",
    "1. Tener atributos privados para nombre, precio y stock\n",
    "2. Implementar métodos para modificar precio y stock\n",
    "3. Validar que el precio sea positivo\n",
    "4. Validar que el stock no sea negativo"
   ]
  },
  {
   "cell_type": "code",
   "execution_count": null,
   "metadata": {},
   "source": [
    "class Producto:\n",
    "    # Su código aquí\n",
    "    pass\n",
    "\n",
    "# Pruebas\n",
    "producto = Producto(\"Laptop\", 1000, 10)\n",
    "assert producto.obtener_precio() == 1000\n",
    "assert producto.obtener_stock() == 10\n",
    "assert producto.modificar_precio(1200) == True\n",
    "assert producto.modificar_precio(-100) == False\n",
    "assert producto.reducir_stock(5) == True\n",
    "assert producto.reducir_stock(10) == False\n",
    "print(\"¡Todas las pruebas pasaron!\")"
   ]
  }
 ],
 "metadata": {
  "kernelspec": {
   "display_name": "Python 3",
   "language": "python",
   "name": "python3"
  },
  "language_info": {
   "codemirror_mode": {
    "name": "ipython",
    "version": 3
   },
   "file_extension": ".py",
   "mimetype": "text/x-python",
   "name": "python",
   "nbconvert_exporter": "python",
   "pygments_lexer": "ipython3",
   "version": "3.8.0"
  }
 },
 "nbformat": 4,
 "nbformat_minor": 4
} 