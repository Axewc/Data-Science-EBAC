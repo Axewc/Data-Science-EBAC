{
 "cells": [
  {
   "cell_type": "markdown",
   "metadata": {},
   "source": [
    "# Soluciones - Ejercicios de Evaluación - Programación Orientada a Objetos\n",
    "\n",
    "## Ejercicio 1: Clase Cuenta Bancaria"
   ]
  },
  {
   "cell_type": "code",
   "execution_count": null,
   "metadata": {},
   "source": [
    "class CuentaBancaria:\n",
    "    def __init__(self, titular, saldo_inicial=0):\n",
    "        self.__titular = titular\n",
    "        self.__saldo = saldo_inicial\n",
    "    \n",
    "    def depositar(self, cantidad):\n",
    "        if cantidad > 0:\n",
    "            self.__saldo += cantidad\n",
    "            return True\n",
    "        return False\n",
    "    \n",
    "    def retirar(self, cantidad):\n",
    "        if cantidad > 0 and cantidad <= self.__saldo:\n",
    "            self.__saldo -= cantidad\n",
    "            return True\n",
    "        return False\n",
    "    \n",
    "    def obtener_saldo(self):\n",
    "        return self.__saldo\n",
    "\n",
    "# Pruebas\n",
    "cuenta = CuentaBancaria(\"Juan Pérez\", 1000)\n",
    "assert cuenta.depositar(500) == True\n",
    "assert cuenta.retirar(200) == True\n",
    "assert cuenta.obtener_saldo() == 1300\n",
    "assert cuenta.retirar(2000) == False\n",
    "print(\"¡Todas las pruebas pasaron!\")"
   ]
  },
  {
   "cell_type": "markdown",
   "metadata": {},
   "source": [
    "## Ejercicio 2: Clase Estudiante con Herencia"
   ]
  },
  {
   "cell_type": "code",
   "execution_count": null,
   "metadata": {},
   "source": [
    "class Estudiante:\n",
    "    def __init__(self, nombre, edad):\n",
    "        self.nombre = nombre\n",
    "        self.edad = edad\n",
    "        self.notas = []\n",
    "    \n",
    "    def agregar_nota(self, nota):\n",
    "        if 0 <= nota <= 10:\n",
    "            self.notas.append(nota)\n",
    "            return True\n",
    "        return False\n",
    "    \n",
    "    def calcular_promedio(self):\n",
    "        if not self.notas:\n",
    "            return 0\n",
    "        return sum(self.notas) / len(self.notas)\n",
    "\n",
    "class EstudianteGrado(Estudiante):\n",
    "    def __init__(self, nombre, edad, carrera, semestre):\n",
    "        super().__init__(nombre, edad)\n",
    "        self.carrera = carrera\n",
    "        self.semestre = semestre\n",
    "    \n",
    "    def estado_academico(self):\n",
    "        promedio = self.calcular_promedio()\n",
    "        if promedio >= 7:\n",
    "            return \"Aprobado\"\n",
    "        elif promedio >= 5:\n",
    "            return \"Regular\"\n",
    "        else:\n",
    "            return \"Reprobado\"\n",
    "\n",
    "# Pruebas\n",
    "estudiante = EstudianteGrado(\"Ana López\", 20, \"Ingeniería\", 5)\n",
    "estudiante.agregar_nota(8.5)\n",
    "estudiante.agregar_nota(9.0)\n",
    "assert estudiante.calcular_promedio() == 8.75\n",
    "assert estudiante.estado_academico() == \"Aprobado\"\n",
    "print(\"¡Todas las pruebas pasaron!\")"
   ]
  },
  {
   "cell_type": "markdown",
   "metadata": {},
   "source": [
    "## Ejercicio 3: Clase Figura con Polimorfismo"
   ]
  },
  {
   "cell_type": "code",
   "execution_count": null,
   "metadata": {},
   "source": [
    "from abc import ABC, abstractmethod\n",
    "import math\n",
    "\n",
    "class Figura(ABC):\n",
    "    @abstractmethod\n",
    "    def calcular_area(self):\n",
    "        pass\n",
    "    \n",
    "    @abstractmethod\n",
    "    def calcular_perimetro(self):\n",
    "        pass\n",
    "\n",
    "class Cuadrado(Figura):\n",
    "    def __init__(self, lado):\n",
    "        self.lado = lado\n",
    "    \n",
    "    def calcular_area(self):\n",
    "        return self.lado ** 2\n",
    "    \n",
    "    def calcular_perimetro(self):\n",
    "        return 4 * self.lado\n",
    "\n",
    "class Circulo(Figura):\n",
    "    def __init__(self, radio):\n",
    "        self.radio = radio\n",
    "    \n",
    "    def calcular_area(self):\n",
    "        return math.pi * self.radio ** 2\n",
    "    \n",
    "    def calcular_perimetro(self):\n",
    "        return 2 * math.pi * self.radio\n",
    "\n",
    "# Pruebas\n",
    "cuadrado = Cuadrado(5)\n",
    "circulo = Circulo(3)\n",
    "assert cuadrado.calcular_area() == 25\n",
    "assert cuadrado.calcular_perimetro() == 20\n",
    "assert abs(circulo.calcular_area() - 28.27) < 0.01\n",
    "assert abs(circulo.calcular_perimetro() - 18.85) < 0.01\n",
    "print(\"¡Todas las pruebas pasaron!\")"
   ]
  },
  {
   "cell_type": "markdown",
   "metadata": {},
   "source": [
    "## Ejercicio 4: Clase Producto con Encapsulamiento"
   ]
  },
  {
   "cell_type": "code",
   "execution_count": null,
   "metadata": {},
   "source": [
    "class Producto:\n",
    "    def __init__(self, nombre, precio, stock):\n",
    "        self.__nombre = nombre\n",
    "        self.__precio = max(0, precio)\n",
    "        self.__stock = max(0, stock)\n",
    "    \n",
    "    def obtener_nombre(self):\n",
    "        return self.__nombre\n",
    "    \n",
    "    def obtener_precio(self):\n",
    "        return self.__precio\n",
    "    \n",
    "    def obtener_stock(self):\n",
    "        return self.__stock\n",
    "    \n",
    "    def modificar_precio(self, nuevo_precio):\n",
    "        if nuevo_precio >= 0:\n",
    "            self.__precio = nuevo_precio\n",
    "            return True\n",
    "        return False\n",
    "    \n",
    "    def reducir_stock(self, cantidad):\n",
    "        if 0 <= cantidad <= self.__stock:\n",
    "            self.__stock -= cantidad\n",
    "            return True\n",
    "        return False\n",
    "\n",
    "# Pruebas\n",
    "producto = Producto(\"Laptop\", 1000, 10)\n",
    "assert producto.obtener_precio() == 1000\n",
    "assert producto.obtener_stock() == 10\n",
    "assert producto.modificar_precio(1200) == True\n",
    "assert producto.modificar_precio(-100) == False\n",
    "assert producto.reducir_stock(5) == True\n",
    "assert producto.reducir_stock(10) == False\n",
    "print(\"¡Todas las pruebas pasaron!\")"
   ]
  }
 ],
 "metadata": {
  "kernelspec": {
   "display_name": "Python 3",
   "language": "python",
   "name": "python3"
  },
  "language_info": {
   "codemirror_mode": {
    "name": "ipython",
    "version": 3
   },
   "file_extension": ".py",
   "mimetype": "text/x-python",
   "name": "python",
   "nbconvert_exporter": "python",
   "pygments_lexer": "ipython3",
   "version": "3.8.0"
  }
 },
 "nbformat": 4,
 "nbformat_minor": 4
}