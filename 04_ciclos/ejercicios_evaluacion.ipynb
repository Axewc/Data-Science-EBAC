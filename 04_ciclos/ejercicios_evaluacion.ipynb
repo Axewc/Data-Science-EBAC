 {
 "cells": [
  {
   "cell_type": "markdown",
   "metadata": {},
   "source": [
    "# Ejercicios de Evaluación - Ciclos For y While\n",
    "\n",
    "## Instrucciones\n",
    "\n",
    "1. Lea cuidadosamente cada pregunta\n",
    "2. Complete el código donde se indique\n",
    "3. Asegúrese de que su código maneje todos los casos posibles\n",
    "4. Incluya comentarios explicativos en su código\n",
    "5. Pruebe su código con diferentes casos de entrada"
   ]
  },
  {
   "cell_type": "markdown",
   "metadata": {},
   "source": [
    "## Ejercicio 1: Contador de Dígitos\n",
    "\n",
    "Complete la función `contar_digitos` que debe:\n",
    "1. Contar cuántos dígitos tiene un número\n",
    "2. Usar un ciclo while\n",
    "3. Manejar números negativos\n",
    "4. Retornar el número de dígitos"
   ]
  },
  {
   "cell_type": "code",
   "execution_count": null,
   "metadata": {},
   "source": [
    "def contar_digitos(numero):\n",
    "    # Su código aquí\n",
    "    pass\n",
    "\n",
    "# Pruebas\n",
    "assert contar_digitos(123) == 3\n",
    "assert contar_digitos(-123) == 3\n",
    "assert contar_digitos(0) == 1\n",
    "assert contar_digitos(1000) == 4\n",
    "print(\"¡Todas las pruebas pasaron!\")"
   ]
  },
  {
   "cell_type": "markdown",
   "metadata": {},
   "source": [
    "## Ejercicio 2: Generador de Patrones\n",
    "\n",
    "Complete la función `generar_patron` que debe crear un patrón triangular usando ciclos for anidados:\n",
    "\n",
    "```\n",
    "*\n",
    "**\n",
    "***\n",
    "****\n",
    "*****\n",
    "```\n",
    "\n",
    "La función debe:\n",
    "1. Recibir el tamaño del patrón\n",
    "2. Usar ciclos for anidados\n",
    "3. Retornar el patrón como una cadena"
   ]
  },
  {
   "cell_type": "code",
   "execution_count": null,
   "metadata": {},
   "source": [
    "def generar_patron(tamano):\n",
    "    # Su código aquí\n",
    "    pass\n",
    "\n",
    "# Pruebas\n",
    "patron_esperado = \"*\\n**\\n***\\n****\\n*****\\n\"\n",
    "assert generar_patron(5) == patron_esperado\n",
    "print(\"¡Todas las pruebas pasaron!\")"
   ]
  },
  {
   "cell_type": "markdown",
   "metadata": {},
   "source": [
    "## Ejercicio 3: Buscador de Números Primos\n",
    "\n",
    "Complete la función `encontrar_primos` que debe:\n",
    "1. Encontrar todos los números primos hasta un límite dado\n",
    "2. Usar un ciclo for para iterar\n",
    "3. Usar un ciclo while para verificar si es primo\n",
    "4. Retornar una lista con los números primos encontrados"
   ]
  },
  {
   "cell_type": "code",
   "execution_count": null,
   "metadata": {},
   "source": [
    "def encontrar_primos(limite):\n",
    "    # Su código aquí\n",
    "    pass\n",
    "\n",
    "# Pruebas\n",
    "primos_esperados = [2, 3, 5, 7, 11, 13, 17, 19]\n",
    "assert encontrar_primos(20) == primos_esperados\n",
    "print(\"¡Todas las pruebas pasaron!\")"
   ]
  },
  {
   "cell_type": "markdown",
   "metadata": {},
   "source": [
    "## Ejercicio 4: Calculadora de Secuencia\n",
    "\n",
    "Complete la función `calcular_secuencia` que debe:\n",
    "1. Generar una secuencia de números\n",
    "2. Calcular la suma de los números pares\n",
    "3. Calcular el producto de los números impares\n",
    "4. Usar break cuando encuentre un número negativo\n",
    "5. Retornar una tupla con (suma_pares, producto_impares)"
   ]
  },
  {
   "cell_type": "code",
   "execution_count": null,
   "metadata": {},
   "source": [
    "def calcular_secuencia(numeros):\n",
    "    # Su código aquí\n",
    "    pass\n",
    "\n",
    "# Pruebas\n",
    "numeros_prueba = [2, 3, 4, 5, -1, 6, 7]\n",
    "suma_esperada = 6  # 2 + 4\n",
    "producto_esperado = 15  # 3 * 5\n",
    "assert calcular_secuencia(numeros_prueba) == (suma_esperada, producto_esperado)\n",
    "print(\"¡Todas las pruebas pasaron!\")"
   ]
  }
 ],
 "metadata": {
  "kernelspec": {
   "display_name": "Python 3",
   "language": "python",
   "name": "python3"
  },
  "language_info": {
   "codemirror_mode": {
    "name": "ipython",
    "version": 3
   },
   "file_extension": ".py",
   "mimetype": "text/x-python",
   "name": "python",
   "nbconvert_exporter": "python",
   "pygments_lexer": "ipython3",
   "version": "3.8.0"
  }
 },
 "nbformat": 4,
 "nbformat_minor": 4
}