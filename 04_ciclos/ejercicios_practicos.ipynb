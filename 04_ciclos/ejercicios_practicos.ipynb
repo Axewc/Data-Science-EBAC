{
 "cells": [
  {
   "cell_type": "markdown",
   "metadata": {},
   "source": [
    "# Ejercicios Prácticos - Ciclos For y While\n",
    "\n",
    "## Ejercicio 1: Generador de Tablas de Multiplicar\n",
    "\n",
    "Crea un programa que genere las tablas de multiplicar del 1 al 10, mostrando:\n",
    "1. La tabla completa de cada número\n",
    "2. Solo los resultados pares\n",
    "3. La suma de todos los resultados"
   ]
  },
  {
   "cell_type": "code",
   "execution_count": null,
   "metadata": {},
   "outputs": [],
   "source": [
    "# Solución:\n",
    "def generar_tablas():\n",
    "    suma_total = 0\n",
    "    \n",
    "    # Generar tablas del 1 al 10\n",
    "    for numero in range(1, 11):\n",
    "        print(f\"\\nTabla del {numero}:\")\n",
    "        suma_tabla = 0\n",
    "        \n",
    "        for multiplicador in range(1, 11):\n",
    "            resultado = numero * multiplicador\n",
    "            suma_tabla += resultado\n",
    "            \n",
    "            # Mostrar solo resultados pares\n",
    "            if resultado % 2 == 0:\n",
    "                print(f\"{numero} x {multiplicador} = {resultado}\")\n",
    "        \n",
    "        print(f\"Suma de la tabla: {suma_tabla}\")\n",
    "        suma_total += suma_tabla\n",
    "    \n",
    "    print(f\"\\nSuma total de todas las tablas: {suma_total}\")\n",
    "\n",
    "# Ejecutar el programa\n",
    "generar_tablas()"
   ]
  },
  {
   "cell_type": "markdown",
   "metadata": {},
   "source": [
    "## Ejercicio 2: Juego de Adivinanza\n",
    "\n",
    "Crea un juego donde el usuario debe adivinar un número aleatorio entre 1 y 100.\n",
    "El programa debe:\n",
    "1. Generar un número aleatorio\n",
    "2. Dar pistas si el número es mayor o menor\n",
    "3. Contar los intentos\n",
    "4. Permitir jugar de nuevo"
   ]
  },
  {
   "cell_type": "code",
   "execution_count": null,
   "metadata": {},
   "outputs": [],
   "source": [
    "# Solución:\n",
    "import random\n",
    "\n",
    "def juego_adivinanza():\n",
    "    while True:\n",
    "        # Generar número aleatorio\n",
    "        numero_secreto = random.randint(1, 100)\n",
    "        intentos = 0\n",
    "        \n",
    "        print(\"\\n¡Bienvenido al juego de adivinanza!\")\n",
    "        print(\"Adivina el número entre 1 y 100\")\n",
    "        \n",
    "        while True:\n",
    "            try:\n",
    "                # Solicitar intento\n",
    "                intento = int(input(\"Ingresa tu número: \"))\n",
    "                intentos += 1\n",
    "                \n",
    "                # Verificar el intento\n",
    "                if intento < numero_secreto:\n",
    "                    print(\"El número es mayor\")\n",
    "                elif intento > numero_secreto:\n",
    "                    print(\"El número es menor\")\n",
    "                else:\n",
    "                    print(f\"\\n¡Felicidades! Adivinaste en {intentos} intentos\")\n",
    "                    break\n",
    "                    \n",
    "            except ValueError:\n",
    "                print(\"Por favor, ingresa un número válido\")\n",
    "                \n",
    "        # Preguntar si quiere jugar de nuevo\n",
    "        jugar_nuevo = input(\"\\n¿Quieres jugar de nuevo? (s/n): \").lower()\n",
    "        if jugar_nuevo != 's':\n",
    "            print(\"¡Gracias por jugar!\")\n",
    "            break\n",
    "\n",
    "# Ejecutar el juego\n",
    "juego_adivinanza()"
   ]
  },
  {
   "cell_type": "markdown",
   "metadata": {},
   "source": [
    "## Ejercicio 3: Procesador de Texto\n",
    "\n",
    "Crea un programa que procese un texto y realice las siguientes operaciones:\n",
    "1. Contar palabras\n",
    "2. Contar vocales\n",
    "3. Encontrar la palabra más larga\n",
    "4. Reemplazar vocales por asteriscos"
   ]
  },
  {
   "cell_type": "code",
   "execution_count": null,
   "metadata": {},
   "outputs": [],
   "source": [
    "# Solución:\n",
    "def procesar_texto(texto):\n",
    "    # Contar palabras\n",
    "    palabras = texto.split()\n",
    "    total_palabras = len(palabras)\n",
    "    \n",
    "    # Contar vocales\n",
    "    vocales = 'aeiouáéíóú'\n",
    "    contador_vocales = sum(1 for c in texto.lower() if c in vocales)\n",
    "    \n",
    "    # Encontrar palabra más larga\n",
    "    palabra_mas_larga = max(palabras, key=len)\n",
    "    \n",
    "    # Reemplazar vocales\n",
    "    texto_modificado = ''.join('*' if c.lower() in vocales else c for c in texto)\n",
    "    \n",
    "    # Mostrar resultados\n",
    "    print(f\"\\nResultados del procesamiento:\")\n",
    "    print(f\"Total de palabras: {total_palabras}\")\n",
    "    print(f\"Total de vocales: {contador_vocales}\")\n",
    "    print(f\"Palabra más larga: {palabra_mas_larga} ({len(palabra_mas_larga)} caracteres)\")\n",
    "    print(f\"\\nTexto con vocales reemplazadas:\")\n",
    "    print(texto_modificado)\n",
    "\n",
    "# Ejemplo de uso\n",
    "texto = \"\"\"\n",
    "Python es un lenguaje de programación versátil y poderoso.\n",
    "Es fácil de aprender y tiene una sintaxis clara.\n",
    "Python es ampliamente utilizado en ciencia de datos.\n",
    "\"\"\"\n",
    "\n",
    "procesar_texto(texto)"
   ]
  }
 ],
 "metadata": {
  "kernelspec": {
   "display_name": "Python 3",
   "language": "python",
   "name": "python3"
  },
  "language_info": {
   "codemirror_mode": {
    "name": "ipython",
    "version": 3
   },
   "file_extension": ".py",
   "mimetype": "text/x-python",
   "name": "python",
   "nbconvert_exporter": "python",
   "pygments_lexer": "ipython3",
   "version": "3.8.0"
  }
 },
 "nbformat": 4,
 "nbformat_minor": 4
}
