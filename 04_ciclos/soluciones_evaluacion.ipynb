 {
 "cells": [
  {
   "cell_type": "markdown",
   "metadata": {},
   "source": [
    "# Soluciones - Ejercicios de Evaluación - Ciclos For y While\n",
    "\n",
    "## Ejercicio 1: Contador de Dígitos"
   ]
  },
  {
   "cell_type": "code",
   "execution_count": null,
   "metadata": {},
   "source": [
    "def contar_digitos(numero):\n",
    "    # Convertir a positivo para manejar números negativos\n",
    "    numero = abs(numero)\n",
    "    \n",
    "    # Caso especial para el número 0\n",
    "    if numero == 0:\n",
    "        return 1\n",
    "    \n",
    "    # Contador de dígitos\n",
    "    contador = 0\n",
    "    \n",
    "    # Ciclo while para contar dígitos\n",
    "    while numero > 0:\n",
    "        contador += 1\n",
    "        numero //= 10\n",
    "    \n",
    "    return contador\n",
    "\n",
    "# Pruebas\n",
    "assert contar_digitos(123) == 3\n",
    "assert contar_digitos(-123) == 3\n",
    "assert contar_digitos(0) == 1\n",
    "assert contar_digitos(1000) == 4\n",
    "print(\"¡Todas las pruebas pasaron!\")"
   ]
  },
  {
   "cell_type": "markdown",
   "metadata": {},
   "source": [
    "## Ejercicio 2: Generador de Patrones"
   ]
  },
  {
   "cell_type": "code",
   "execution_count": null,
   "metadata": {},
   "source": [
    "def generar_patron(tamano):\n",
    "    # Lista para almacenar las líneas del patrón\n",
    "    lineas = []\n",
    "    \n",
    "    # Ciclo for para generar cada línea\n",
    "    for i in range(1, tamano + 1):\n",
    "        # Crear la línea con i asteriscos\n",
    "        linea = '*' * i\n",
    "        lineas.append(linea)\n",
    "    \n",
    "    # Unir las líneas con saltos de línea\n",
    "    return '\\n'.join(lineas) + '\\n'\n",
    "\n",
    "# Pruebas\n",
    "patron_esperado = \"*\\n**\\n***\\n****\\n*****\\n\"\n",
    "assert generar_patron(5) == patron_esperado\n",
    "print(\"¡Todas las pruebas pasaron!\")"
   ]
  },
  {
   "cell_type": "markdown",
   "metadata": {},
   "source": [
    "## Ejercicio 3: Buscador de Números Primos"
   ]
  },
  {
   "cell_type": "code",
   "execution_count": null,
   "metadata": {},
   "source": [
    "def encontrar_primos(limite):\n",
    "    # Lista para almacenar los números primos\n",
    "    primos = []\n",
    "    \n",
    "    # Ciclo for para iterar sobre los números\n",
    "    for num in range(2, limite + 1):\n",
    "        # Asumir que el número es primo\n",
    "        es_primo = True\n",
    "        \n",
    "        # Ciclo while para verificar si es primo\n",
    "        divisor = 2\n",
    "        while divisor * divisor <= num:\n",
    "            if num % divisor == 0:\n",
    "                es_primo = False\n",
    "                break\n",
    "            divisor += 1\n",
    "        \n",
    "        # Si es primo, agregarlo a la lista\n",
    "        if es_primo:\n",
    "            primos.append(num)\n",
    "    \n",
    "    return primos\n",
    "\n",
    "# Pruebas\n",
    "primos_esperados = [2, 3, 5, 7, 11, 13, 17, 19]\n",
    "assert encontrar_primos(20) == primos_esperados\n",
    "print(\"¡Todas las pruebas pasaron!\")"
   ]
  },
  {
   "cell_type": "markdown",
   "metadata": {},
   "source": [
    "## Ejercicio 4: Calculadora de Secuencia"
   ]
  },
  {
   "cell_type": "code",
   "execution_count": null,
   "metadata": {},
   "source": [
    "def calcular_secuencia(numeros):\n",
    "    # Inicializar contadores\n",
    "    suma_pares = 0\n",
    "    producto_impares = 1\n",
    "    \n",
    "    # Ciclo for para procesar la secuencia\n",
    "    for num in numeros:\n",
    "        # Si encontramos un número negativo, terminamos\n",
    "        if num < 0:\n",
    "            break\n",
    "            \n",
    "        # Procesar números pares e impares\n",
    "        if num % 2 == 0:\n",
    "            suma_pares += num\n",
    "        else:\n",
    "            producto_impares *= num\n",
    "    \n",
    "    return (suma_pares, producto_impares)\n",
    "\n",
    "# Pruebas\n",
    "numeros_prueba = [2, 3, 4, 5, -1, 6, 7]\n",
    "suma_esperada = 6  # 2 + 4\n",
    "producto_esperado = 15  # 3 * 5\n",
    "assert calcular_secuencia(numeros_prueba) == (suma_esperada, producto_esperado)\n",
    "print(\"¡Todas las pruebas pasaron!\")"
   ]
  }
 ],
 "metadata": {
  "kernelspec": {
   "display_name": "Python 3",
   "language": "python",
   "name": "python3"
  },
  "language_info": {
   "codemirror_mode": {
    "name": "ipython",
    "version": 3
   },
   "file_extension": ".py",
   "mimetype": "text/x-python",
   "name": "python",
   "nbconvert_exporter": "python",
   "pygments_lexer": "ipython3",
   "version": "3.8.0"
  }
 },
 "nbformat": 4,
 "nbformat_minor": 4
}