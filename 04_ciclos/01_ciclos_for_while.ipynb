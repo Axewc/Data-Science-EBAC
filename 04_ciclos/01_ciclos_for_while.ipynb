 {
 "cells": [
  {
   "cell_type": "markdown",
   "metadata": {},
   "source": [
    "# Ciclos: For y While\n",
    "\n",
    "## Sobre el trayecto\n",
    "\n",
    "En este módulo, aprenderás sobre las estructuras de control que permiten repetir bloques de código: los ciclos `for` y `while`.\n",
    "\n",
    "### Objetivos de aprendizaje\n",
    "\n",
    "- Comprender el uso y diferencias entre ciclos `for` y `while`\n",
    "- Dominar la iteración sobre diferentes tipos de datos\n",
    "- Aprender a controlar el flujo de los ciclos\n",
    "- Aplicar los ciclos en casos prácticos"
   ]
  },
  {
   "cell_type": "markdown",
   "metadata": {},
   "source": [
    "## Instrucción For\n",
    "\n",
    "El ciclo `for` se utiliza para iterar sobre una secuencia (lista, tupla, cadena, etc.) o cualquier objeto iterable."
   ]
  },
  {
   "cell_type": "code",
   "execution_count": null,
   "metadata": {},
   "source": [
    "# Ejemplo básico de for\n",
    "frutas = [\"manzana\", \"banana\", \"naranja\"]\n",
    "\n",
    "print(\"Iterando sobre una lista:\")\n",
    "for fruta in frutas:\n",
    "    print(f\"Me gusta la {fruta}\")\n",
    "\n",
    "# Iterando sobre una cadena\n",
    "print(\"\\nIterando sobre una cadena:\")\n",
    "for letra in \"Python\":\n",
    "    print(letra)\n",
    "\n",
    "# Usando range()\n",
    "print(\"\\nIterando con range:\")\n",
    "for i in range(5):\n",
    "    print(f\"Número: {i}\")"
   ]
  },
  {
   "cell_type": "markdown",
   "metadata": {},
   "source": [
    "### Funciones útiles con for\n",
    "\n",
    "1. `range()`: Genera una secuencia de números\n",
    "2. `enumerate()`: Proporciona índice y valor\n",
    "3. `zip()`: Combina múltiples iterables"
   ]
  },
  {
   "cell_type": "code",
   "execution_count": null,
   "metadata": {},
   "source": [
    "# Ejemplos de funciones útiles\n",
    "nombres = [\"Ana\", \"Juan\", \"María\"]\n",
    "edades = [25, 30, 28]\n",
    "\n",
    "# Usando enumerate\n",
    "print(\"Usando enumerate:\")\n",
    "for i, nombre in enumerate(nombres):\n",
    "    print(f\"{i+1}. {nombre}\")\n",
    "\n",
    "# Usando zip\n",
    "print(\"\\nUsando zip:\")\n",
    "for nombre, edad in zip(nombres, edades):\n",
    "    print(f\"{nombre} tiene {edad} años\")\n",
    "\n",
    "# Range con inicio, fin y paso\n",
    "print(\"\\nRange con parámetros:\")\n",
    "for i in range(0, 10, 2):  # Inicio: 0, Fin: 10, Paso: 2\n",
    "    print(f\"Número par: {i}\")"
   ]
  },
  {
   "cell_type": "markdown",
   "metadata": {},
   "source": [
    "## Instrucción While\n",
    "\n",
    "El ciclo `while` se ejecuta mientras una condición sea verdadera."
   ]
  },
  {
   "cell_type": "code",
   "execution_count": null,
   "metadata": {},
   "source": [
    "# Ejemplo básico de while\n",
    "contador = 0\n",
    "while contador < 5:\n",
    "    print(f\"Contador: {contador}\")\n",
    "    contador += 1\n",
    "\n",
    "# While con break\n",
    "print(\"\\nEjemplo con break:\")\n",
    "numero = 0\n",
    "while True:\n",
    "    if numero == 3:\n",
    "        break\n",
    "    print(f\"Número: {numero}\")\n",
    "    numero += 1\n",
    "\n",
    "# While con continue\n",
    "print(\"\\nEjemplo con continue:\")\n",
    "x = 0\n",
    "while x < 5:\n",
    "    x += 1\n",
    "    if x == 3:\n",
    "        continue\n",
    "    print(f\"Valor de x: {x}\")"
   ]
  },
  {
   "cell_type": "markdown",
   "metadata": {},
   "source": [
    "## Control de Flujo en Ciclos\n",
    "\n",
    "### Break\n",
    "La instrucción `break` permite salir completamente del ciclo."
   ]
  },
  {
   "cell_type": "code",
   "execution_count": null,
   "metadata": {},
   "source": [
    "# Ejemplo de break\n",
    "print(\"Buscando el número 3:\")\n",
    "for i in range(10):\n",
    "    if i == 3:\n",
    "        print(\"¡Encontrado!\")\n",
    "        break\n",
    "    print(f\"Revisando número: {i}\")"
   ]
  },
  {
   "cell_type": "markdown",
   "metadata": {},
   "source": [
    "### Continue\n",
    "La instrucción `continue` salta a la siguiente iteración del ciclo."
   ]
  },
  {
   "cell_type": "code",
   "execution_count": null,
   "metadata": {},
   "source": [
    "# Ejemplo de continue\n",
    "print(\"Imprimiendo números pares:\")\n",
    "for i in range(10):\n",
    "    if i % 2 != 0:\n",
    "        continue\n",
    "    print(f\"Número par: {i}\")"
   ]
  },
  {
   "cell_type": "markdown",
   "metadata": {},
   "source": [
    "## Buenas Prácticas\n",
    "\n",
    "1. **Evitar ciclos infinitos**: Asegúrate de que la condición del `while` pueda ser falsa\n",
    "2. **Uso apropiado de break/continue**: No abuses de estas instrucciones\n",
    "3. **Nombres descriptivos**: Usa nombres claros para las variables de control\n",
    "4. **Documentación**: Comenta ciclos complejos\n",
    "\n",
    "### Ejemplo de buenas prácticas:"
   ]
  },
  {
   "cell_type": "code",
   "execution_count": null,
   "metadata": {},
   "source": [
    "def buscar_elemento(lista, elemento):\n",
    "    \"\"\"\n",
    "    Busca un elemento en una lista y retorna su posición\n",
    "    \n",
    "    Args:\n",
    "        lista: Lista donde buscar\n",
    "        elemento: Elemento a buscar\n",
    "    \n",
    "    Returns:\n",
    "        int: Posición del elemento o -1 si no se encuentra\n",
    "    \"\"\"\n",
    "    for indice, valor in enumerate(lista):\n",
    "        if valor == elemento:\n",
    "            return indice\n",
    "    return -1\n",
    "\n",
    "# Ejemplo de uso\n",
    "numeros = [1, 2, 3, 4, 5]\n",
    "buscar = 3\n",
    "posicion = buscar_elemento(numeros, buscar)\n",
    "print(f\"El elemento {buscar} está en la posición {posicion}\")"
   ]
  }
 ],
 "metadata": {
  "kernelspec": {
   "display_name": "Python 3",
   "language": "python",
   "name": "python3"
  },
  "language_info": {
   "codemirror_mode": {
    "name": "ipython",
    "version": 3
   },
   "file_extension": ".py",
   "mimetype": "text/x-python",
   "name": "python",
   "nbconvert_exporter": "python",
   "pygments_lexer": "ipython3",
   "version": "3.8.0"
  }
 },
 "nbformat": 4,
 "nbformat_minor": 4
}