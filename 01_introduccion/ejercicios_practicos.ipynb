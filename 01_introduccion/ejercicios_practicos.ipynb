 {
 "cells": [
  {
   "cell_type": "markdown",
   "metadata": {},
   "source": [
    "# Ejercicios Prácticos - Introducción a Python\n",
    "\n",
    "## Ejercicio 1: Calculadora de IMC\n",
    "\n",
    "Crea un programa que calcule el Índice de Masa Corporal (IMC) de una persona.\n",
    "\n",
    "Fórmula: IMC = peso / (altura²)\n",
    "\n",
    "### Clasificación del IMC:\n",
    "- Bajo peso: < 18.5\n",
    "- Normal: 18.5 - 24.9\n",
    "- Sobrepeso: 25 - 29.9\n",
    "- Obesidad: ≥ 30"
   ]
  },
  {
   "cell_type": "code",
   "execution_count": null,
   "metadata": {},
   "source": [
    "# Tu código aquí\n",
    "\n",
    "# Solución:\n",
    "def calcular_imc():\n",
    "    peso = float(input(\"Ingrese su peso en kg: \"))\n",
    "    altura = float(input(\"Ingrese su altura en metros: \"))\n",
    "    \n",
    "    imc = peso / (altura ** 2)\n",
    "    \n",
    "    print(f\"\\nSu IMC es: {imc:.2f}\")\n",
    "    \n",
    "    if imc < 18.5:\n",
    "        print(\"Clasificación: Bajo peso\")\n",
    "    elif 18.5 <= imc < 25:\n",
    "        print(\"Clasificación: Normal\")\n",
    "    elif 25 <= imc < 30:\n",
    "        print(\"Clasificación: Sobrepeso\")\n",
    "    else:\n",
    "        print(\"Clasificación: Obesidad\")\n",
    "\n",
    "# Ejecutar el programa\n",
    "calcular_imc()"
   ]
  },
  {
   "cell_type": "markdown",
   "metadata": {},
   "source": [
    "## Ejercicio 2: Generador de contraseñas\n",
    "\n",
    "Crea un programa que genere una contraseña aleatoria con las siguientes características:\n",
    "- 8 caracteres de longitud\n",
    "- Al menos una letra mayúscula\n",
    "- Al menos una letra minúscula\n",
    "- Al menos un número\n",
    "- Al menos un carácter especial"
   ]
  },
  {
   "cell_type": "code",
   "execution_count": null,
   "metadata": {},
   "source": [
    "# Tu código aquí\n",
    "\n",
    "# Solución:\n",
    "import random\n",
    "import string\n",
    "\n",
    "def generar_password():\n",
    "    # Definir caracteres posibles\n",
    "    mayusculas = string.ascii_uppercase\n",
    "    minusculas = string.ascii_lowercase\n",
    "    numeros = string.digits\n",
    "    especiales = \"!@#$%^&*\"\n",
    "    \n",
    "    # Asegurar al menos un carácter de cada tipo\n",
    "    password = [\n",
    "        random.choice(mayusculas),\n",
    "        random.choice(minusculas),\n",
    "        random.choice(numeros),\n",
    "        random.choice(especiales)\n",
    "    ]\n",
    "    \n",
    "    # Completar hasta 8 caracteres\n",
    "    todos_caracteres = mayusculas + minusculas + numeros + especiales\n",
    "    for _ in range(4):\n",
    "        password.append(random.choice(todos_caracteres))\n",
    "    \n",
    "    # Mezclar la contraseña\n",
    "    random.shuffle(password)\n",
    "    return ''.join(password)\n",
    "\n",
    "# Generar y mostrar contraseña\n",
    "print(f\"Contraseña generada: {generar_password()}\")"
   ]
  },
  {
   "cell_type": "markdown",
   "metadata": {},
   "source": [
    "## Ejercicio 3: Calculadora de intereses\n",
    "\n",
    "Crea un programa que calcule el interés compuesto de una inversión.\n",
    "\n",
    "Fórmula: A = P(1 + r)^t\n",
    "\n",
    "Donde:\n",
    "- A = Cantidad final\n",
    "- P = Capital inicial\n",
    "- r = Tasa de interés (en decimal)\n",
    "- t = Tiempo en años"
   ]
  },
  {
   "cell_type": "code",
   "execution_count": null,
   "metadata": {},
   "source": [
    "# Tu código aquí\n",
    "\n",
    "# Solución:\n",
    "def calcular_interes_compuesto():\n",
    "    capital = float(input(\"Ingrese el capital inicial: $\"))\n",
    "    tasa = float(input(\"Ingrese la tasa de interés anual (%): \")) / 100\n",
    "    tiempo = float(input(\"Ingrese el tiempo en años: \"))\n",
    "    \n",
    "    cantidad_final = capital * (1 + tasa) ** tiempo\n",
    "    \n",
    "    print(f\"\\nResultados:\")\n",
    "    print(f\"Capital inicial: ${capital:,.2f}\")\n",
    "    print(f\"Tasa de interés: {tasa*100}%\")\n",
    "    print(f\"Tiempo: {tiempo} años\")\n",
    "    print(f\"Cantidad final: ${cantidad_final:,.2f}\")\n",
    "    print(f\"Interés ganado: ${cantidad_final - capital:,.2f}\")\n",
    "\n",
    "# Ejecutar el programa\n",
    "calcular_interes_compuesto()"
   ]
  },
  {
   "cell_type": "markdown",
   "metadata": {},
   "source": [
    "## Ejercicio 4: Juego de adivinanza\n",
    "\n",
    "Crea un juego simple donde el usuario debe adivinar un número aleatorio entre 1 y 100.\n",
    "El programa debe dar pistas si el número es mayor o menor."
   ]
  },
  {
   "cell_type": "code",
   "execution_count": null,
   "metadata": {},
   "source": [
    "# Tu código aquí\n",
    "\n",
    "# Solución:\n",
    "import random\n",
    "\n",
    "def juego_adivinanza():\n",
    "    numero_secreto = random.randint(1, 100)\n",
    "    intentos = 0\n",
    "    \n",
    "    print(\"¡Bienvenido al juego de adivinanza!\")\n",
    "    print(\"Debes adivinar un número entre 1 y 100.\")\n",
    "    \n",
    "    while True:\n",
    "        intentos += 1\n",
    "        try:\n",
    "            intento = int(input(f\"\\nIntento #{intentos}: Ingrese un número: \"))\n",
    "            \n",
    "            if intento < numero_secreto:\n",
    "                print(\"El número es mayor\")\n",
    "            elif intento > numero_secreto:\n",
    "                print(\"El número es menor\")\n",
    "            else:\n",
    "                print(f\"\\n¡Felicidades! Has adivinado el número en {intentos} intentos.\")\n",
    "                break\n",
    "                \n",
    "        except ValueError:\n",
    "            print(\"Por favor, ingrese un número válido.\")\n",
    "\n",
    "# Ejecutar el juego\n",
    "juego_adivinanza()"
   ]
  }
 ],
 "metadata": {
  "kernelspec": {
   "display_name": "Python 3",
   "language": "python",
   "name": "python3"
  },
  "language_info": {
   "codemirror_mode": {
    "name": "ipython",
    "version": 3
   },
   "file_extension": ".py",
   "mimetype": "text/x-python",
   "name": "python",
   "nbconvert_exporter": "python",
   "pygments_lexer": "ipython3",
   "version": "3.8.0"
  }
 },
 "nbformat": 4,
 "nbformat_minor": 4
}