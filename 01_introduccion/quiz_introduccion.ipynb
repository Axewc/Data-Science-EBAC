 {
 "cells": [
  {
   "cell_type": "markdown",
   "metadata": {},
   "source": [
    "# Quiz - Introducción a Python\n",
    "\n",
    "## Instrucciones\n",
    "\n",
    "1. Responde las siguientes preguntas\n",
    "2. Verifica tus respuestas ejecutando las celdas de código\n",
    "3. Cada pregunta vale 1 punto\n",
    "\n",
    "## Preguntas\n",
    "\n",
    "### 1. ¿Qué es Python?\n",
    "\n",
    "a) Un lenguaje de programación de bajo nivel\n",
    "b) Un lenguaje de programación de alto nivel\n",
    "c) Un sistema operativo\n",
    "d) Una base de datos"
   ]
  },
  {
   "cell_type": "code",
   "execution_count": null,
   "metadata": {},
   "source": [
    "# Tu respuesta aquí\n",
    "respuesta_1 = 'b'  # Cambia la letra según tu respuesta\n",
    "\n",
    "# Verificar respuesta\n",
    "def verificar_respuesta_1():\n",
    "    if respuesta_1 == 'b':\n",
    "        print(\"¡Correcto! Python es un lenguaje de programación de alto nivel.\")\n",
    "        return 1\n",
    "    else:\n",
    "        print(\"Incorrecto. La respuesta correcta es 'b'.\")\n",
    "        return 0\n",
    "\n",
    "puntos_1 = verificar_respuesta_1()"
   ]
  },
  {
   "cell_type": "markdown",
   "metadata": {},
   "source": [
    "### 2. ¿Cuál es el resultado de la siguiente operación en Python?\n",
    "\n",
    "```python\n",
    "5 + 3 * 2\n",
    "```\n",
    "\n",
    "a) 16\n",
    "b) 11\n",
    "c) 10\n",
    "d) 8"
   ]
  },
  {
   "cell_type": "code",
   "execution_count": null,
   "metadata": {},
   "source": [
    "# Tu respuesta aquí\n",
    "respuesta_2 = 'b'  # Cambia la letra según tu respuesta\n",
    "\n",
    "# Verificar respuesta\n",
    "def verificar_respuesta_2():\n",
    "    if respuesta_2 == 'b':\n",
    "        print(\"¡Correcto! En Python, la multiplicación tiene prioridad sobre la suma.\")\n",
    "        return 1\n",
    "    else:\n",
    "        print(\"Incorrecto. La respuesta correcta es 'b'.\")\n",
    "        return 0\n",
    "\n",
    "puntos_2 = verificar_respuesta_2()"
   ]
  },
  {
   "cell_type": "markdown",
   "metadata": {},
   "source": [
    "### 3. ¿Cuál es el tipo de dato correcto para almacenar el nombre de una persona?\n",
    "\n",
    "a) int\n",
    "b) float\n",
    "c) str\n",
    "d) bool"
   ]
  },
  {
   "cell_type": "code",
   "execution_count": null,
   "metadata": {},
   "source": [
    "# Tu respuesta aquí\n",
    "respuesta_3 = 'c'  # Cambia la letra según tu respuesta\n",
    "\n",
    "# Verificar respuesta\n",
    "def verificar_respuesta_3():\n",
    "    if respuesta_3 == 'c':\n",
    "        print(\"¡Correcto! El tipo 'str' (string) es el adecuado para almacenar texto.\")\n",
    "        return 1\n",
    "    else:\n",
    "        print(\"Incorrecto. La respuesta correcta es 'c'.\")\n",
    "        return 0\n",
    "\n",
    "puntos_3 = verificar_respuesta_3()"
   ]
  },
  {
   "cell_type": "markdown",
   "metadata": {},
   "source": [
    "### 4. ¿Qué función se usa para imprimir texto en la consola en Python?\n",
    "\n",
    "a) write()\n",
    "b) print()\n",
    "c) output()\n",
    "d) display()"
   ]
  },
  {
   "cell_type": "code",
   "execution_count": null,
   "metadata": {},
   "source": [
    "# Tu respuesta aquí\n",
    "respuesta_4 = 'b'  # Cambia la letra según tu respuesta\n",
    "\n",
    "# Verificar respuesta\n",
    "def verificar_respuesta_4():\n",
    "    if respuesta_4 == 'b':\n",
    "        print(\"¡Correcto! La función print() es la función estándar para imprimir en Python.\")\n",
    "        return 1\n",
    "    else:\n",
    "        print(\"Incorrecto. La respuesta correcta es 'b'.\")\n",
    "        return 0\n",
    "\n",
    "puntos_4 = verificar_respuesta_4()"
   ]
  },
  {
   "cell_type": "markdown",
   "metadata": {},
   "source": [
    "### 5. ¿Cuál es el operador correcto para la división entera en Python?\n",
    "\n",
    "a) /\n",
    "b) //\n",
    "c) %\n",
    "d) div"
   ]
  },
  {
   "cell_type": "code",
   "execution_count": null,
   "metadata": {},
   "source": [
    "# Tu respuesta aquí\n",
    "respuesta_5 = 'b'  # Cambia la letra según tu respuesta\n",
    "\n",
    "# Verificar respuesta\n",
    "def verificar_respuesta_5():\n",
    "    if respuesta_5 == 'b':\n",
    "        print(\"¡Correcto! El operador // se usa para la división entera en Python.\")\n",
    "        return 1\n",
    "    else:\n",
    "        print(\"Incorrecto. La respuesta correcta es 'b'.\")\n",
    "        return 0\n",
    "\n",
    "puntos_5 = verificar_respuesta_5()"
   ]
  },
  {
   "cell_type": "markdown",
   "metadata": {},
   "source": [
    "## Resultado final"
   ]
  },
  {
   "cell_type": "code",
   "execution_count": null,
   "metadata": {},
   "source": [
    "# Calcular puntuación total\n",
    "puntuacion_total = puntos_1 + puntos_2 + puntos_3 + puntos_4 + puntos_5\n",
    "print(f\"\\nTu puntuación total es: {puntuacion_total}/5\")\n",
    "\n",
    "# Mostrar calificación\n",
    "if puntuacion_total == 5:\n",
    "    print(\"¡Excelente! Has dominado los conceptos básicos.\")\n",
    "elif puntuacion_total >= 3:\n",
    "    print(\"Buen trabajo, pero hay algunos conceptos que puedes repasar.\")\n",
    "else:\n",
    "    print(\"Te sugiero repasar los conceptos básicos de Python.\")"
   ]
  }
 ],
 "metadata": {
  "kernelspec": {
   "display_name": "Python 3",
   "language": "python",
   "name": "python3"
  },
  "language_info": {
   "codemirror_mode": {
    "name": "ipython",
    "version": 3
   },
   "file_extension": ".py",
   "mimetype": "text/x-python",
   "name": "python",
   "nbconvert_exporter": "python",
   "pygments_lexer": "ipython3",
   "version": "3.8.0"
  }
 },
 "nbformat": 4,
 "nbformat_minor": 4
}