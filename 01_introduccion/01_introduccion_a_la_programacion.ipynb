{
 "cells": [
  {
   "cell_type": "markdown",
   "metadata": {},
   "source": [
    "# Introducción a la Programación\n",
    "\n",
    "## Sobre el trayecto\n",
    "\n",
    "En este módulo, aprenderás los conceptos fundamentales de la programación y te familiarizarás con el entorno de desarrollo que utilizaremos durante todo el curso.\n",
    "\n",
    "### Objetivos de aprendizaje\n",
    "\n",
    "- Comprender qué es la programación y su importancia en la ciencia de datos\n",
    "- Instalar y configurar el entorno de desarrollo\n",
    "- Conocer la historia y características de Python\n",
    "- Aprender los elementos básicos de programación en Python"
   ]
  },
  {
   "cell_type": "markdown",
   "metadata": {},
   "source": [
    "## ¿Qué es la programación?\n",
    "\n",
    "La programación es el proceso de crear un conjunto de instrucciones que le dicen a una computadora cómo realizar una tarea. Es como escribir una receta, pero para una computadora.\n",
    "\n",
    "### Características principales\n",
    "\n",
    "1. **Precisión**: Las instrucciones deben ser exactas\n",
    "2. **Orden**: Las instrucciones deben seguir una secuencia lógica\n",
    "3. **Claridad**: El código debe ser fácil de entender\n",
    "4. **Eficiencia**: Debe resolver el problema de la mejor manera posible\n",
    "\n",
    "### Ejemplo práctico\n",
    "\n",
    "Imagina que quieres hacer una taza de café. Los pasos serían:\n",
    "\n",
    "1. Calentar agua\n",
    "2. Poner café en el filtro\n",
    "3. Verter agua caliente\n",
    "4. Esperar a que se filtre\n",
    "5. Servir en una taza\n",
    "\n",
    "En programación, escribimos estos pasos de manera que una computadora pueda entenderlos:"
   ]
  },
  {
   "cell_type": "code",
   "execution_count": null,
   "metadata": {},
   "source": [
    "# Ejemplo de un programa simple\n",
    "def hacer_cafe():\n",
    "    print(\"1. Calentando agua...\")\n",
    "    print(\"2. Poniendo café en el filtro...\")\n",
    "    print(\"3. Vertiendo agua caliente...\")\n",
    "    print(\"4. Esperando a que se filtre...\")\n",
    "    print(\"5. Sirviendo en una taza...\")\n",
    "    print(\"¡Tu café está listo!\")\n",
    "\n",
    "# Ejecutar el programa\n",
    "hacer_cafe()"
   ]
  },
  {
   "cell_type": "markdown",
   "metadata": {},
   "source": [
    "## Instalación de Anaconda y Jupyter Notebook\n",
    "\n",
    "### Pasos para la instalación\n",
    "\n",
    "1. Descarga Anaconda desde [www.anaconda.com](https://www.anaconda.com/download)\n",
    "2. Ejecuta el instalador\n",
    "3. Sigue las instrucciones del asistente de instalación\n",
    "4. Verifica la instalación abriendo Anaconda Navigator\n",
    "\n",
    "### Verificación de la instalación\n",
    "\n",
    "Vamos a verificar que todo está instalado correctamente:"
   ]
  },
  {
   "cell_type": "code",
   "execution_count": null,
   "metadata": {},
   "source": [
    "# Verificar la instalación de Python\n",
    "import sys\n",
    "print(f\"Versión de Python: {sys.version}\")\n",
    "\n",
    "# Verificar la instalación de Jupyter\n",
    "import IPython\n",
    "print(f\"Versión de Jupyter: {IPython.__version__}\")"
   ]
  },
  {
   "cell_type": "markdown",
   "metadata": {},
   "source": [
    "## Historia de Python\n",
    "\n",
    "Python fue creado por Guido van Rossum y fue lanzado por primera vez en 1991. Sus características principales son:\n",
    "\n",
    "- **Simplicidad**: Sintaxis clara y legible\n",
    "- **Versatilidad**: Puede usarse para múltiples propósitos\n",
    "- **Comunidad activa**: Gran cantidad de recursos y bibliotecas\n",
    "- **Open Source**: Libre y gratuito\n",
    "\n",
    "### ¿Por qué Python para ciencia de datos?\n",
    "\n",
    "1. **Bibliotecas especializadas**: NumPy, Pandas, Matplotlib\n",
    "2. **Facilidad de aprendizaje**: Sintaxis intuitiva\n",
    "3. **Gran comunidad**: Muchos recursos y soporte\n",
    "4. **Integración**: Excelente con otras herramientas"
   ]
  },
  {
   "cell_type": "markdown",
   "metadata": {},
   "source": [
    "## Elementos básicos de programación en Python\n",
    "\n",
    "### 1. Variables y tipos de datos básicos\n",
    "\n",
    "Las variables son contenedores para almacenar datos:"
   ]
  },
  {
   "cell_type": "code",
   "execution_count": null,
   "metadata": {},
   "source": [
    "# Ejemplos de variables y tipos de datos\n",
    "nombre = \"Ana\"  # String (cadena de texto)\n",
    "edad = 25      # Integer (número entero)\n",
    "altura = 1.65  # Float (número decimal)\n",
    "es_estudiante = True  # Boolean (verdadero/falso)\n",
    "\n",
    "# Imprimir las variables\n",
    "print(f\"Nombre: {nombre}\")\n",
    "print(f\"Edad: {edad}\")\n",
    "print(f\"Altura: {altura}\")\n",
    "print(f\"¿Es estudiante?: {es_estudiante}\")"
   ]
  },
  {
   "cell_type": "markdown",
   "metadata": {},
   "source": [
    "### 2. Operaciones básicas\n",
    "\n",
    "Python permite realizar operaciones matemáticas básicas:"
   ]
  },
  {
   "cell_type": "code",
   "execution_count": null,
   "metadata": {},
   "source": [
    "# Operaciones matemáticas básicas\n",
    "a = 10\n",
    "b = 3\n",
    "\n",
    "print(f\"Suma: {a + b}\")\n",
    "print(f\"Resta: {a - b}\")\n",
    "print(f\"Multiplicación: {a * b}\")\n",
    "print(f\"División: {a / b}\")\n",
    "print(f\"División entera: {a // b}\")\n",
    "print(f\"Potencia: {a ** b}\")"
   ]
  },
  {
   "cell_type": "markdown",
   "metadata": {},
   "source": [
    "## Glosario\n",
    "\n",
    "- **Programación**: Proceso de crear instrucciones para una computadora\n",
    "- **Python**: Lenguaje de programación interpretado y de alto nivel\n",
    "- **Jupyter Notebook**: Entorno interactivo para programación y análisis de datos\n",
    "- **Anaconda**: Distribución de Python para ciencia de datos\n",
    "- **Variable**: Contenedor para almacenar datos\n",
    "- **Tipo de dato**: Clasificación de la información (string, integer, float, boolean)\n",
    "- **Operador**: Símbolo que realiza operaciones matemáticas o lógicas"
   ]
  },
  {
   "cell_type": "markdown",
   "metadata": {},
   "source": [
    "## Buenas prácticas\n",
    "\n",
    "1. **Nombres descriptivos**: Usa nombres claros para variables y funciones\n",
    "2. **Comentarios**: Documenta tu código\n",
    "3. **Formato**: Sigue las convenciones de estilo (PEP 8)\n",
    "4. **Modularización**: Divide tu código en partes manejables\n",
    "\n",
    "### Ejemplo de buenas prácticas:"
   ]
  },
  {
   "cell_type": "code",
   "execution_count": null,
   "metadata": {},
   "source": [
    "# Buenas prácticas en acción\n",
    "\n",
    "# 1. Nombres descriptivos\n",
    "temperatura_celsius = 25\n",
    "humedad_relativa = 60\n",
    "\n",
    "# 2. Comentarios explicativos\n",
    "def convertir_a_fahrenheit(celsius):\n",
    "    \"\"\"\n",
    "    Convierte temperatura de Celsius a Fahrenheit\n",
    "    \n",
    "    Args:\n",
    "        celsius (float): Temperatura en grados Celsius\n",
    "    \n",
    "    Returns:\n",
    "        float: Temperatura en grados Fahrenheit\n",
    "    \"\"\"\n",
    "    return (celsius * 9/5) + 32\n",
    "\n",
    "# 3. Formato PEP 8\n",
    "resultado = convertir_a_fahrenheit(temperatura_celsius)\n",
    "print(f\"{temperatura_celsius}°C = {resultado}°F\")"
   ]
  },
  {
   "cell_type": "markdown",
   "metadata": {},
   "source": [
    "## Ejercicios prácticos\n",
    "\n",
    "### Ejercicio 1: Calculadora básica\n",
    "\n",
    "Crea un programa que realice las operaciones básicas con dos números ingresados por el usuario."
   ]
  },
  {
   "cell_type": "code",
   "execution_count": null,
   "metadata": {},
   "source": [
    "# Solución del ejercicio 1\n",
    "def calculadora_basica():\n",
    "    # Solicitar números al usuario\n",
    "    num1 = float(input(\"Ingrese el primer número: \"))\n",
    "    num2 = float(input(\"Ingrese el segundo número: \"))\n",
    "    \n",
    "    # Realizar operaciones\n",
    "    print(f\"\\nResultados:\")\n",
    "    print(f\"Suma: {num1 + num2}\")\n",
    "    print(f\"Resta: {num1 - num2}\")\n",
    "    print(f\"Multiplicación: {num1 * num2}\")\n",
    "    print(f\"División: {num1 / num2}\")\n",
    "\n",
    "# Ejecutar la calculadora\n",
    "calculadora_basica()"
   ]
  },
  {
   "cell_type": "markdown",
   "metadata": {},
   "source": [
    "### Ejercicio 2: Conversor de unidades\n",
    "\n",
    "Crea un programa que convierta kilómetros a millas y viceversa."
   ]
  },
  {
   "cell_type": "code",
   "execution_count": null,
   "metadata": {},
   "source": [
    "# Solución del ejercicio 2\n",
    "def conversor_unidades():\n",
    "    # Constantes de conversión\n",
    "    KM_A_MILLAS = 0.621371\n",
    "    MILLAS_A_KM = 1.60934\n",
    "    \n",
    "    # Solicitar valor y unidad al usuario\n",
    "    valor = float(input(\"Ingrese el valor a convertir: \"))\n",
    "    unidad = input(\"Ingrese la unidad (km/millas): \").lower()\n",
    "    \n",
    "    # Realizar conversión\n",
    "    if unidad == \"km\":\n",
    "        resultado = valor * KM_A_MILLAS\n",
    "        print(f\"{valor} km = {resultado:.2f} millas\")\n",
    "    elif unidad == \"millas\":\n",
    "        resultado = valor * MILLAS_A_KM\n",
    "        print(f\"{valor} millas = {resultado:.2f} km\")\n",
    "    else:\n",
    "        print(\"Unidad no válida. Use 'km' o 'millas'\")\n",
    "\n",
    "# Ejecutar el conversor\n",
    "conversor_unidades()"
   ]
  }
 ],
 "metadata": {
  "kernelspec": {
   "display_name": "Python 3",
   "language": "python",
   "name": "python3"
  },
  "language_info": {
   "codemirror_mode": {
    "name": "ipython",
    "version": 3
   },
   "file_extension": ".py",
   "mimetype": "text/x-python",
   "name": "python",
   "nbconvert_exporter": "python",
   "pygments_lexer": "ipython3",
   "version": "3.8.0"
  }
 },
 "nbformat": 4,
 "nbformat_minor": 4
}