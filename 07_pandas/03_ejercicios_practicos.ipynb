{
 "cells": [
  {
   "cell_type": "markdown",
   "metadata": {},
   "source": [
    "# Ejemplo práctico\n",
    "A continuación te compartimos ejemplos prácticos recapitulativos de lo revisado en el módulo:\n",
    "\n",
    "## 1. Análisis exploratorio con estadísticas descriptivas\t"
   ]
  },
  {
   "cell_type": "code",
   "execution_count": 2,
   "metadata": {},
   "outputs": [],
   "source": [
    "# Crear un DataFrame\n",
    "import pandas as pd\n",
    "datos = { \"Producto\": [\"Manzanas\", \"Bananas\", \"Naranjas\", \"Uvas\", \"Peras\"], \"Cantidad\": [10, 20, 15, 12, 8], \"Precio\": [5.5, 2.5, 3.0, 4.5, 6.0], \"Categoria\": [\"Frutas\", \"Frutas\", \"Frutas\", \"Frutas\", \"Frutas\"]}\n",
    "\n",
    "ventas = pd.DataFrame(datos)"
   ]
  },
  {
   "cell_type": "markdown",
   "metadata": {},
   "source": [
    "Estadísticas descriptivas"
   ]
  },
  {
   "cell_type": "code",
   "execution_count": 3,
   "metadata": {},
   "outputs": [
    {
     "name": "stdout",
     "output_type": "stream",
     "text": [
      "Estadísticas descriptivas del DataFrame:\n",
      "        Cantidad    Precio\n",
      "count   5.000000  5.000000\n",
      "mean   13.000000  4.300000\n",
      "std     4.690416  1.524795\n",
      "min     8.000000  2.500000\n",
      "25%    10.000000  3.000000\n",
      "50%    12.000000  4.500000\n",
      "75%    15.000000  5.500000\n",
      "max    20.000000  6.000000\n"
     ]
    }
   ],
   "source": [
    "print(\"Estadísticas descriptivas del DataFrame:\")\n",
    "\n",
    "print(ventas.describe())"
   ]
  },
  {
   "cell_type": "markdown",
   "metadata": {},
   "source": [
    "Media y suma de la columna \"Cantidad\""
   ]
  },
  {
   "cell_type": "code",
   "execution_count": 4,
   "metadata": {},
   "outputs": [
    {
     "name": "stdout",
     "output_type": "stream",
     "text": [
      "\n",
      "Media de cantidad: 13.0\n",
      "Suma total de cantidad: 65\n"
     ]
    }
   ],
   "source": [
    "media_cantidad = ventas[\"Cantidad\"].mean()\n",
    "\n",
    "suma_cantidad = ventas[\"Cantidad\"].sum()\n",
    "\n",
    "print(f\"\\nMedia de cantidad: {media_cantidad}\")\n",
    "\n",
    "print(f\"Suma total de cantidad: {suma_cantidad}\")"
   ]
  },
  {
   "cell_type": "markdown",
   "metadata": {},
   "source": [
    "## 2. Filtrar datos con múltiples condiciones\n",
    " Filtrar productos con cantidad mayor a 10 y precio menor a 5\n",
    "\n"
   ]
  },
  {
   "cell_type": "code",
   "execution_count": 5,
   "metadata": {},
   "outputs": [
    {
     "name": "stdout",
     "output_type": "stream",
     "text": [
      "\n",
      "Productos con cantidad > 10 y precio < 5:\n",
      "   Producto  Cantidad  Precio Categoria\n",
      "1   Bananas        20     2.5    Frutas\n",
      "2  Naranjas        15     3.0    Frutas\n",
      "3      Uvas        12     4.5    Frutas\n"
     ]
    }
   ],
   "source": [
    "filtro = ventas[(ventas[\"Cantidad\"] > 10) & (ventas[\"Precio\"] < 5)]\n",
    "\n",
    "print(\"\\nProductos con cantidad > 10 y precio < 5:\")\n",
    "\n",
    "print(filtro)"
   ]
  },
  {
   "cell_type": "markdown",
   "metadata": {},
   "source": [
    "## 3. Pivot Tables para análisis de datos\n",
    "Crear datos con más categorías"
   ]
  },
  {
   "cell_type": "code",
   "execution_count": 7,
   "metadata": {},
   "outputs": [],
   "source": [
    "datos_ext = {\n",
    "\n",
    "\"Producto\": [\"Manzanas\", \"Bananas\", \"Naranjas\", \"Uvas\", \"Manzanas\", \"Bananas\"],\n",
    "\n",
    "\"Cantidad\": [10, 20, 15, 12, 5, 10],\n",
    "\n",
    "\"Precio\": [5.5, 2.5, 3.0, 4.5, 5.5, 2.5],\n",
    "\n",
    "\"Mes\": [\"Enero\", \"Enero\", \"Enero\", \"Enero\", \"Febrero\", \"Febrero\"]\n",
    "\n",
    "}\n",
    "\n",
    "ventas_ext = pd.DataFrame(datos_ext)"
   ]
  },
  {
   "cell_type": "markdown",
   "metadata": {},
   "source": [
    "Crear una tabla dinámica"
   ]
  },
  {
   "cell_type": "code",
   "execution_count": 8,
   "metadata": {},
   "outputs": [
    {
     "name": "stdout",
     "output_type": "stream",
     "text": [
      "\n",
      "Tabla dinámica de cantidades por mes:\n",
      "Mes       Enero  Febrero\n",
      "Producto                \n",
      "Bananas      20       10\n",
      "Manzanas     10        5\n",
      "Naranjas     15        0\n",
      "Uvas         12        0\n"
     ]
    }
   ],
   "source": [
    "pivot_table = ventas_ext.pivot_table(values=\"Cantidad\", index=\"Producto\", columns=\"Mes\", aggfunc=\"sum\", fill_value=0)\n",
    "\n",
    "print(\"\\nTabla dinámica de cantidades por mes:\")\n",
    "\n",
    "print(pivot_table)"
   ]
  },
  {
   "cell_type": "markdown",
   "metadata": {},
   "source": [
    "## 4. Uso de funciones personalizadas con apply\n",
    "\n",
    "Función para clasificar productos según el precio\n",
    "\n"
   ]
  },
  {
   "cell_type": "code",
   "execution_count": 9,
   "metadata": {},
   "outputs": [],
   "source": [
    "def clasificar_precio(precio):\n",
    "    if precio < 3:\n",
    "        return \"Barato\"\n",
    "    elif precio < 5:\n",
    "        return \"Moderado\"\n",
    "    else:\n",
    "        return \"Caro\""
   ]
  },
  {
   "cell_type": "markdown",
   "metadata": {},
   "source": [
    "rear una nueva columna con la clasificación"
   ]
  },
  {
   "cell_type": "code",
   "execution_count": 10,
   "metadata": {},
   "outputs": [
    {
     "name": "stdout",
     "output_type": "stream",
     "text": [
      "\n",
      "DataFrame con clasificación de precios:\n",
      "   Producto  Cantidad  Precio Categoria Clasificacion Precio\n",
      "0  Manzanas        10     5.5    Frutas                 Caro\n",
      "1   Bananas        20     2.5    Frutas               Barato\n",
      "2  Naranjas        15     3.0    Frutas             Moderado\n",
      "3      Uvas        12     4.5    Frutas             Moderado\n",
      "4     Peras         8     6.0    Frutas                 Caro\n"
     ]
    }
   ],
   "source": [
    "ventas[\"Clasificacion Precio\"] = ventas[\"Precio\"].apply(clasificar_precio)\n",
    "\n",
    "print(\"\\nDataFrame con clasificación de precios:\")\n",
    "\n",
    "print(ventas)"
   ]
  },
  {
   "cell_type": "markdown",
   "metadata": {},
   "source": [
    "## 5. Operaciones con datos duplicados\n",
    "\n"
   ]
  }
 ],
 "metadata": {
  "kernelspec": {
   "display_name": "base",
   "language": "python",
   "name": "python3"
  },
  "language_info": {
   "codemirror_mode": {
    "name": "ipython",
    "version": 3
   },
   "file_extension": ".py",
   "mimetype": "text/x-python",
   "name": "python",
   "nbconvert_exporter": "python",
   "pygments_lexer": "ipython3",
   "version": "3.12.7"
  }
 },
 "nbformat": 4,
 "nbformat_minor": 4
}
