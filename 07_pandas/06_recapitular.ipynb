{
 "cells": [
  {
   "cell_type": "markdown",
   "metadata": {},
   "source": [
    "# Competencia:\n",
    "----\n",
    "\n",
    "Manejar y analizar grandes volúmenes de datos utilizando Pandas y NumPy para extraer información valiosa y realizar análisis complejos de manera eficiente.\n",
    "\n",
    "----\n",
    "Habilidades:\n",
    "- 1\n",
    "Crear DataFrames a partir de arreglos de NumPy, asignando nombres a filas y columnas para facilitar el manejo de datos.\n",
    "\n",
    "- 2\n",
    "Aplicar funciones de agrupamiento como `groupby` para calcular estadísticas de tendencia central y dispersión en conjuntos de datos.\n",
    "\n",
    "- 3\n",
    "Manipular índices en DataFrames para realizar búsquedas eficientes y extraer subconjuntos de datos mediante índices jerárquicos.\n",
    "\n",
    "- 4\n",
    "Generar visualizaciones de datos como histogramas y gráficos de barras para interpretar y comunicar resultados de análisis."
   ]
  }
 ],
 "metadata": {
  "language_info": {
   "name": "python"
  }
 },
 "nbformat": 4,
 "nbformat_minor": 2
}
