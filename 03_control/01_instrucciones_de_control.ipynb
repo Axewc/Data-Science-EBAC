{
 "cells": [
  {
   "cell_type": "markdown",
   "metadata": {},
   "source": [
    "# Instrucciones de Control: Álgebra Booleana y Condicionales\n",
    "\n",
    "## Sobre el trayecto\n",
    "\n",
    "En este módulo, aprenderás sobre la lógica booleana y cómo utilizarla para controlar el flujo de ejecución de tus programas.\n",
    "\n",
    "### Objetivos de aprendizaje\n",
    "\n",
    "- Comprender las tablas de verdad y operadores lógicos\n",
    "- Dominar el uso de instrucciones condicionales (if, else, elif)\n",
    "- Aprender el manejo de excepciones con try-except\n",
    "- Aplicar la lógica booleana en casos prácticos"
   ]
  },
  {
   "cell_type": "markdown",
   "metadata": {},
   "source": [
    "## Álgebra Booleana\n",
    "\n",
    "### Tablas de Verdad\n",
    "\n",
    "Las tablas de verdad muestran todas las posibles combinaciones de valores de entrada y sus resultados para operaciones lógicas.\n",
    "\n",
    "#### Operadores Lógicos Básicos\n",
    "\n",
    "1. **AND (&&)**\n",
    "   - Verdadero solo si ambos operandos son verdaderos\n",
    "   \n",
    "2. **OR (||)**\n",
    "   - Verdadero si al menos uno de los operandos es verdadero\n",
    "   \n",
    "3. **NOT (!)**\n",
    "   - Invierte el valor del operando"
   ]
  },
  {
   "cell_type": "code",
   "execution_count": null,
   "metadata": {},
   "source": [
    "# Ejemplo de operadores lógicos\n",
    "a = True\n",
    "b = False\n",
    "c = True\n",
    "\n",
    "print(f\"a = {a}\")\n",
    "print(f\"b = {b}\")\n",
    "print(f\"c = {c}\")\n",
    "print(f\"\\nOperaciones lógicas:\")\n",
    "print(f\"a AND b = {a and b}\")\n",
    "print(f\"a OR b = {a or b}\")\n",
    "print(f\"NOT a = {not a}\")\n",
    "print(f\"a AND b OR c = {a and b or c}\")"
   ]
  },
  {
   "cell_type": "markdown",
   "metadata": {},
   "source": [
    "## Instrucciones Condicionales\n",
    "\n",
    "### IF\n",
    "\n",
    "La instrucción `if` permite ejecutar un bloque de código solo si una condición es verdadera:"
   ]
  },
  {
   "cell_type": "code",
   "execution_count": null,
   "metadata": {},
   "source": [
    "# Ejemplo básico de if\n",
    "edad = 18\n",
    "\n",
    "if edad >= 18:\n",
    "    print(\"Eres mayor de edad\")\n",
    "    print(\"Puedes votar\")\n",
    "\n",
    "# Ejemplo con operadores de comparación\n",
    "temperatura = 25\n",
    "\n",
    "if temperatura > 30:\n",
    "    print(\"Hace mucho calor\")\n",
    "elif temperatura > 20:\n",
    "    print(\"La temperatura es agradable\")\n",
    "else:\n",
    "    print(\"Hace frío\")"
   ]
  },
  {
   "cell_type": "markdown",
   "metadata": {},
   "source": [
    "### Operadores de Comparación\n",
    "\n",
    "Python proporciona varios operadores para comparar valores:\n",
    "\n",
    "- `==` : Igual a\n",
    "- `!=` : No igual a\n",
    "- `>` : Mayor que\n",
    "- `<` : Menor que\n",
    "- `>=` : Mayor o igual que\n",
    "- `<=` : Menor o igual que"
   ]
  },
  {
   "cell_type": "code",
   "execution_count": null,
   "metadata": {},
   "source": [
    "# Ejemplos de operadores de comparación\n",
    "x = 5\n",
    "y = 10\n",
    "\n",
    "print(f\"x = {x}\")\n",
    "print(f\"y = {y}\")\n",
    "print(f\"\\nComparaciones:\")\n",
    "print(f\"x == y: {x == y}\")\n",
    "print(f\"x != y: {x != y}\")\n",
    "print(f\"x < y: {x < y}\")\n",
    "print(f\"x > y: {x > y}\")\n",
    "print(f\"x <= y: {x <= y}\")\n",
    "print(f\"x >= y: {x >= y}\")"
   ]
  },
  {
   "cell_type": "markdown",
   "metadata": {},
   "source": [
    "## Manejo de Excepciones\n",
    "\n",
    "El manejo de excepciones nos permite controlar errores que pueden ocurrir durante la ejecución del programa:"
   ]
  },
  {
   "cell_type": "code",
   "execution_count": null,
   "metadata": {},
   "source": [
    "# Ejemplo de manejo de excepciones\n",
    "def dividir(a, b):\n",
    "    try:\n",
    "        resultado = a / b\n",
    "        print(f\"{a} / {b} = {resultado}\")\n",
    "    except ZeroDivisionError:\n",
    "        print(\"Error: No se puede dividir por cero\")\n",
    "    except TypeError:\n",
    "        print(\"Error: Los argumentos deben ser números\")\n",
    "    except Exception as e:\n",
    "        print(f\"Error inesperado: {e}\")\n",
    "    else:\n",
    "        print(\"La división se realizó correctamente\")\n",
    "    finally:\n",
    "        print(\"Fin de la operación\")\n",
    "\n",
    "# Probar diferentes casos\n",
    "print(\"Caso 1: División normal\")\n",
    "dividir(10, 2)\n",
    "\n",
    "print(\"\\nCaso 2: División por cero\")\n",
    "dividir(10, 0)\n",
    "\n",
    "print(\"\\nCaso 3: Tipo de dato incorrecto\")\n",
    "dividir(\"10\", 2)"
   ]
  },
  {
   "cell_type": "markdown",
   "metadata": {},
   "source": [
    "## Buenas Prácticas\n",
    "\n",
    "1. **Condiciones claras**: Usa nombres descriptivos para las variables en las condiciones\n",
    "2. **Indentación correcta**: Mantén una indentación consistente\n",
    "3. **Manejo de casos especiales**: Siempre considera los casos límite\n",
    "4. **Documentación**: Comenta las condiciones complejas\n",
    "\n",
    "### Ejemplo de buenas prácticas:"
   ]
  },
  {
   "cell_type": "code",
   "execution_count": null,
   "metadata": {},
   "source": [
    "# Ejemplo de buenas prácticas\n",
    "def verificar_edad(edad):\n",
    "    \"\"\"\n",
    "    Verifica si una persona puede conducir basado en su edad\n",
    "    \n",
    "    Args:\n",
    "        edad (int): Edad de la persona\n",
    "    \n",
    "    Returns:\n",
    "        str: Mensaje indicando si puede conducir\n",
    "    \"\"\"\n",
    "    EDAD_MINIMA = 18\n",
    "    EDAD_MAXIMA = 80\n",
    "    \n",
    "    try:\n",
    "        edad = int(edad)\n",
    "        \n",
    "        if edad < 0:\n",
    "            return \"Error: La edad no puede ser negativa\"\n",
    "        elif edad < EDAD_MINIMA:\n",
    "            return f\"No puedes conducir. Debes tener al menos {EDAD_MINIMA} años\"\n",
    "        elif edad > EDAD_MAXIMA:\n",
    "            return f\"No puedes conducir. La edad máxima es {EDAD_MAXIMA} años\"\n",
    "        else:\n",
    "            return \"Puedes conducir\"\n",
    "            \n",
    "    except ValueError:\n",
    "        return \"Error: La edad debe ser un número\"\n",
    "\n",
    "# Probar la función\n",
    "print(verificar_edad(25))\n",
    "print(verificar_edad(16))\n",
    "print(verificar_edad(85))\n",
    "print(verificar_edad(\"abc\"))"
   ]
  }
 ],
 "metadata": {
  "kernelspec": {
   "display_name": "Python 3",
   "language": "python",
   "name": "python3"
  },
  "language_info": {
   "codemirror_mode": {
    "name": "ipython",
    "version": 3
   },
   "file_extension": ".py",
   "mimetype": "text/x-python",
   "name": "python",
   "nbconvert_exporter": "python",
   "pygments_lexer": "ipython3",
   "version": "3.8.0"
  }
 },
 "nbformat": 4,
 "nbformat_minor": 4
}