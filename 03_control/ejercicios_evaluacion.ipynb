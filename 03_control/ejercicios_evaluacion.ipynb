{
 "cells": [
  {
   "cell_type": "markdown",
   "metadata": {},
   "source": [
    "# Ejercicios de Evaluación - Instrucciones de Control\n",
    "\n",
    "## Instrucciones\n",
    "\n",
    "1. Lea cuidadosamente cada pregunta\n",
    "2. Complete el código donde se indique\n",
    "3. Asegúrese de que su código maneje todos los casos posibles\n",
    "4. Incluya comentarios explicativos en su código\n",
    "5. Pruebe su código con diferentes casos de entrada"
   ]
  },
  {
   "cell_type": "markdown",
   "metadata": {},
   "source": [
    "## Ejercicio 1: Validación de Contraseña\n",
    "\n",
    "Complete la función `validar_password` que debe verificar si una contraseña cumple con los siguientes requisitos:\n",
    "\n",
    "- Tiene al menos 8 caracteres\n",
    "- Contiene al menos una letra mayúscula\n",
    "- Contiene al menos una letra minúscula\n",
    "- Contiene al menos un número\n",
    "- Contiene al menos un carácter especial (!@#$%^&*)\n",
    "\n",
    "La función debe retornar `True` si la contraseña cumple con todos los requisitos y `False` en caso contrario."
   ]
  },
  {
   "cell_type": "code",
   "execution_count": null,
   "metadata": {},
   "source": [
    "def validar_password(password):\n",
    "    # Su código aquí\n",
    "    pass\n",
    "\n",
    "# Pruebas\n",
    "assert validar_password(\"P@ssw0rd123\") == True\n",
    "assert validar_password(\"password123\") == False\n",
    "assert validar_password(\"PASSWORD123\") == False\n",
    "assert validar_password(\"Pass123\") == False\n",
    "print(\"¡Todas las pruebas pasaron!\")"
   ]
  },
  {
   "cell_type": "markdown",
   "metadata": {},
   "source": [
    "## Ejercicio 2: Calculadora de Descuentos\n",
    "\n",
    "Complete la función `calcular_descuento` que debe calcular el descuento aplicable a un producto según las siguientes reglas:\n",
    "\n",
    "- Si el precio es mayor a $1000, aplicar 10% de descuento\n",
    "- Si el precio es mayor a $5000, aplicar 15% de descuento\n",
    "- Si el precio es mayor a $10000, aplicar 20% de descuento\n",
    "\n",
    "La función debe retornar el precio final después de aplicar el descuento correspondiente."
   ]
  },
  {
   "cell_type": "code",
   "execution_count": null,
   "metadata": {},
   "source": [
    "def calcular_descuento(precio):\n",
    "    # Su código aquí\n",
    "    pass\n",
    "\n",
    "# Pruebas\n",
    "assert calcular_descuento(500) == 500\n",
    "assert calcular_descuento(1500) == 1350\n",
    "assert calcular_descuento(6000) == 5100\n",
    "assert calcular_descuento(12000) == 9600\n",
    "print(\"¡Todas las pruebas pasaron!\")"
   ]
  },
  {
   "cell_type": "markdown",
   "metadata": {},
   "source": [
    "## Ejercicio 3: Sistema de Autenticación\n",
    "\n",
    "Complete la función `autenticar_usuario` que debe implementar un sistema de autenticación con las siguientes características:\n",
    "\n",
    "- Verificar si el usuario existe en el diccionario de usuarios\n",
    "- Verificar si la contraseña coincide\n",
    "- Manejar intentos fallidos (máximo 3 intentos)\n",
    "- Bloquear la cuenta después de 3 intentos fallidos\n",
    "\n",
    "La función debe retornar:\n",
    "- `True` si la autenticación es exitosa\n",
    "- `False` si las credenciales son incorrectas\n",
    "- `\"bloqueado\"` si la cuenta está bloqueada"
   ]
  },
  {
   "cell_type": "code",
   "execution_count": null,
   "metadata": {},
   "source": [
    "# Diccionario de usuarios (usuario: contraseña)\n",
    "usuarios = {\n",
    "    \"usuario1\": \"pass123\",\n",
    "    \"usuario2\": \"pass456\"\n",
    "}\n",
    "\n",
    "# Diccionario para contar intentos fallidos\n",
    "intentos_fallidos = {}\n",
    "\n",
    "def autenticar_usuario(usuario, password):\n",
    "    # Su código aquí\n",
    "    pass\n",
    "\n",
    "# Pruebas\n",
    "assert autenticar_usuario(\"usuario1\", \"pass123\") == True\n",
    "assert autenticar_usuario(\"usuario1\", \"pass456\") == False\n",
    "assert autenticar_usuario(\"usuario3\", \"pass123\") == False\n",
    "print(\"¡Todas las pruebas pasaron!\")"
   ]
  },
  {
   "cell_type": "markdown",
   "metadata": {},
   "source": [
    "## Ejercicio 4: Manejo de Excepciones\n",
    "\n",
    "Complete la función `procesar_archivo` que debe:\n",
    "\n",
    "1. Abrir un archivo de texto\n",
    "2. Leer su contenido\n",
    "3. Procesar cada línea\n",
    "4. Manejar las siguientes excepciones:\n",
    "   - FileNotFoundError: si el archivo no existe\n",
    "   - PermissionError: si no hay permisos para leer el archivo\n",
    "   - ValueError: si el archivo está vacío\n",
    "\n",
    "La función debe retornar el número de líneas procesadas exitosamente."
   ]
  },
  {
   "cell_type": "code",
   "execution_count": null,
   "metadata": {},
   "source": [
    "def procesar_archivo(nombre_archivo):\n",
    "    # Su código aquí\n",
    "    pass\n",
    "\n",
    "# Crear archivo de prueba\n",
    "with open(\"archivo_prueba.txt\", \"w\") as f:\n",
    "    f.write(\"Línea 1\\nLínea 2\\nLínea 3\")\n",
    "\n",
    "# Pruebas\n",
    "assert procesar_archivo(\"archivo_prueba.txt\") == 3\n",
    "try:\n",
    "    procesar_archivo(\"archivo_no_existe.txt\")\n",
    "except FileNotFoundError:\n",
    "    print(\"Prueba de FileNotFoundError exitosa\")\n",
    "print(\"¡Todas las pruebas pasaron!\")"
   ]
  }
 ],
 "metadata": {
  "kernelspec": {
   "display_name": "Python 3",
   "language": "python",
   "name": "python3"
  },
  "language_info": {
   "codemirror_mode": {
    "name": "ipython",
    "version": 3
   },
   "file_extension": ".py",
   "mimetype": "text/x-python",
   "name": "python",
   "nbconvert_exporter": "python",
   "pygments_lexer": "ipython3",
   "version": "3.8.0"
  }
 },
 "nbformat": 4,
 "nbformat_minor": 4
} 