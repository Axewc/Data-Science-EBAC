{
 "cells": [
  {
   "cell_type": "markdown",
   "metadata": {},
   "source": [
    "# Soluciones - Ejercicios de Evaluación\n",
    "\n",
    "## Ejercicio 1: Validación de Contraseña"
   ]
  },
  {
   "cell_type": "code",
   "execution_count": null,
   "metadata": {},
   "source": [
    "import re\n",
    "\n",
    "def validar_password(password):\n",
    "    # Verificar longitud mínima\n",
    "    if len(password) < 8:\n",
    "        return False\n",
    "    \n",
    "    # Verificar mayúsculas\n",
    "    if not re.search(r'[A-Z]', password):\n",
    "        return False\n",
    "    \n",
    "    # Verificar minúsculas\n",
    "    if not re.search(r'[a-z]', password):\n",
    "        return False\n",
    "    \n",
    "    # Verificar números\n",
    "    if not re.search(r'\\d', password):\n",
    "        return False\n",
    "    \n",
    "    # Verificar caracteres especiales\n",
    "    if not re.search(r'[!@#$%^&*]', password):\n",
    "        return False\n",
    "    \n",
    "    return True\n",
    "\n",
    "# Pruebas\n",
    "assert validar_password(\"P@ssw0rd123\") == True\n",
    "assert validar_password(\"password123\") == False\n",
    "assert validar_password(\"PASSWORD123\") == False\n",
    "assert validar_password(\"Pass123\") == False\n",
    "print(\"¡Todas las pruebas pasaron!\")"
   ]
  },
  {
   "cell_type": "markdown",
   "metadata": {},
   "source": [
    "## Ejercicio 2: Calculadora de Descuentos"
   ]
  },
  {
   "cell_type": "code",
   "execution_count": null,
   "metadata": {},
   "source": [
    "def calcular_descuento(precio):\n",
    "    # Aplicar descuentos según el precio\n",
    "    if precio > 10000:\n",
    "        return precio * 0.80  # 20% de descuento\n",
    "    elif precio > 5000:\n",
    "        return precio * 0.85  # 15% de descuento\n",
    "    elif precio > 1000:\n",
    "        return precio * 0.90  # 10% de descuento\n",
    "    else:\n",
    "        return precio  # Sin descuento\n",
    "\n",
    "# Pruebas\n",
    "assert calcular_descuento(500) == 500\n",
    "assert calcular_descuento(1500) == 1350\n",
    "assert calcular_descuento(6000) == 5100\n",
    "assert calcular_descuento(12000) == 9600\n",
    "print(\"¡Todas las pruebas pasaron!\")"
   ]
  },
  {
   "cell_type": "markdown",
   "metadata": {},
   "source": [
    "## Ejercicio 3: Sistema de Autenticación"
   ]
  },
  {
   "cell_type": "code",
   "execution_count": null,
   "metadata": {},
   "source": [
    "# Diccionario de usuarios (usuario: contraseña)\n",
    "usuarios = {\n",
    "    \"usuario1\": \"pass123\",\n",
    "    \"usuario2\": \"pass456\"\n",
    "}\n",
    "\n",
    "# Diccionario para contar intentos fallidos\n",
    "intentos_fallidos = {}\n",
    "\n",
    "def autenticar_usuario(usuario, password):\n",
    "    # Verificar si la cuenta está bloqueada\n",
    "    if usuario in intentos_fallidos and intentos_fallidos[usuario] >= 3:\n",
    "        return \"bloqueado\"\n",
    "    \n",
    "    # Verificar si el usuario existe y la contraseña es correcta\n",
    "    if usuario in usuarios and usuarios[usuario] == password:\n",
    "        # Reiniciar intentos fallidos si la autenticación es exitosa\n",
    "        if usuario in intentos_fallidos:\n",
    "            del intentos_fallidos[usuario]\n",
    "        return True\n",
    "    \n",
    "    # Incrementar intentos fallidos\n",
    "    if usuario not in intentos_fallidos:\n",
    "        intentos_fallidos[usuario] = 0\n",
    "    intentos_fallidos[usuario] += 1\n",
    "    \n",
    "    return False\n",
    "\n",
    "# Pruebas\n",
    "assert autenticar_usuario(\"usuario1\", \"pass123\") == True\n",
    "assert autenticar_usuario(\"usuario1\", \"pass456\") == False\n",
    "assert autenticar_usuario(\"usuario3\", \"pass123\") == False\n",
    "print(\"¡Todas las pruebas pasaron!\")"
   ]
  },
  {
   "cell_type": "markdown",
   "metadata": {},
   "source": [
    "## Ejercicio 4: Manejo de Excepciones"
   ]
  },
  {
   "cell_type": "code",
   "execution_count": null,
   "metadata": {},
   "source": [
    "def procesar_archivo(nombre_archivo):\n",
    "    try:\n",
    "        # Intentar abrir y leer el archivo\n",
    "        with open(nombre_archivo, 'r') as archivo:\n",
    "            lineas = archivo.readlines()\n",
    "            \n",
    "            # Verificar si el archivo está vacío\n",
    "            if not lineas:\n",
    "                raise ValueError(\"El archivo está vacío\")\n",
    "            \n",
    "            # Procesar cada línea\n",
    "            lineas_procesadas = 0\n",
    "            for linea in lineas:\n",
    "                linea = linea.strip()\n",
    "                if linea:  # Ignorar líneas vacías\n",
    "                    lineas_procesadas += 1\n",
    "                    \n",
    "            return lineas_procesadas\n",
    "            \n",
    "    except FileNotFoundError:\n",
    "        raise FileNotFoundError(f\"El archivo {nombre_archivo} no existe\")\n",
    "    except PermissionError:\n",
    "        raise PermissionError(f\"No hay permisos para leer el archivo {nombre_archivo}\")\n",
    "\n",
    "# Crear archivo de prueba\n",
    "with open(\"archivo_prueba.txt\", \"w\") as f:\n",
    "    f.write(\"Línea 1\\nLínea 2\\nLínea 3\")\n",
    "\n",
    "# Pruebas\n",
    "assert procesar_archivo(\"archivo_prueba.txt\") == 3\n",
    "try:\n",
    "    procesar_archivo(\"archivo_no_existe.txt\")\n",
    "except FileNotFoundError:\n",
    "    print(\"Prueba de FileNotFoundError exitosa\")\n",
    "print(\"¡Todas las pruebas pasaron!\")"
   ]
  }
 ],
 "metadata": {
  "kernelspec": {
   "display_name": "Python 3",
   "language": "python",
   "name": "python3"
  },
  "language_info": {
   "codemirror_mode": {
    "name": "ipython",
    "version": 3
   },
   "file_extension": ".py",
   "mimetype": "text/x-python",
   "name": "python",
   "nbconvert_exporter": "python",
   "pygments_lexer": "ipython3",
   "version": "3.8.0"
  }
 },
 "nbformat": 4,
 "nbformat_minor": 4
} 