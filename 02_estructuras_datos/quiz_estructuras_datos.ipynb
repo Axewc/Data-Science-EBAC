 {
 "cells": [
  {
   "cell_type": "markdown",
   "metadata": {},
   "source": [
    "# Quiz - Estructuras y Tipos de Datos\n",
    "\n",
    "## Instrucciones\n",
    "\n",
    "1. Responde las siguientes preguntas\n",
    "2. Verifica tus respuestas ejecutando las celdas de código\n",
    "3. Cada pregunta vale 1 punto\n",
    "\n",
    "## Preguntas\n",
    "\n",
    "### 1. ¿Cuál es la diferencia principal entre una lista y una tupla en Python?\n",
    "\n",
    "a) Las listas son más rápidas\n",
    "b) Las tuplas son inmutables\n",
    "c) Las listas solo pueden contener números\n",
    "d) Las tuplas solo pueden contener strings"
   ]
  },
  {
   "cell_type": "code",
   "execution_count": null,
   "metadata": {},
   "source": [
    "# Tu respuesta aquí\n",
    "respuesta_1 = 'b'  # Cambia la letra según tu respuesta\n",
    "\n",
    "# Verificar respuesta\n",
    "def verificar_respuesta_1():\n",
    "    if respuesta_1 == 'b':\n",
    "        print(\"¡Correcto! Las tuplas son inmutables, lo que significa que no pueden modificarse después de su creación.\")\n",
    "        return 1\n",
    "    else:\n",
    "        print(\"Incorrecto. La respuesta correcta es 'b'.\")\n",
    "        return 0\n",
    "\n",
    "puntos_1 = verificar_respuesta_1()"
   ]
  },
  {
   "cell_type": "markdown",
   "metadata": {},
   "source": [
    "### 2. ¿Qué método se usa para agregar un elemento al final de una lista?\n",
    "\n",
    "a) add()\n",
    "b) append()\n",
    "c) insert()\n",
    "d) push()"
   ]
  },
  {
   "cell_type": "code",
   "execution_count": null,
   "metadata": {},
   "source": [
    "# Tu respuesta aquí\n",
    "respuesta_2 = 'b'  # Cambia la letra según tu respuesta\n",
    "\n",
    "# Verificar respuesta\n",
    "def verificar_respuesta_2():\n",
    "    if respuesta_2 == 'b':\n",
    "        print(\"¡Correcto! El método append() se usa para agregar un elemento al final de una lista.\")\n",
    "        return 1\n",
    "    else:\n",
    "        print(\"Incorrecto. La respuesta correcta es 'b'.\")\n",
    "        return 0\n",
    "\n",
    "puntos_2 = verificar_respuesta_2()"
   ]
  },
  {
   "cell_type": "markdown",
   "metadata": {},
   "source": [
    "### 3. ¿Cómo se accede a un valor en un diccionario usando su clave?\n",
    "\n",
    "a) diccionario.get(clave)\n",
    "b) diccionario[clave]\n",
    "c) diccionario.value(clave)\n",
    "d) diccionario.find(clave)"
   ]
  },
  {
   "cell_type": "code",
   "execution_count": null,
   "metadata": {},
   "source": [
    "# Tu respuesta aquí\n",
    "respuesta_3 = 'b'  # Cambia la letra según tu respuesta\n",
    "\n",
    "# Verificar respuesta\n",
    "def verificar_respuesta_3():\n",
    "    if respuesta_3 == 'b':\n",
    "        print(\"¡Correcto! Se puede acceder a un valor en un diccionario usando la notación de corchetes: diccionario[clave].\")\n",
    "        return 1\n",
    "    else:\n",
    "        print(\"Incorrecto. La respuesta correcta es 'b'.\")\n",
    "        return 0\n",
    "\n",
    "puntos_3 = verificar_respuesta_3()"
   ]
  },
  {
   "cell_type": "markdown",
   "metadata": {},
   "source": [
    "### 4. ¿Qué método se usa para obtener la longitud de una cadena de texto?\n",
    "\n",
    "a) length()\n",
    "b) size()\n",
    "c) len()\n",
    "d) count()"
   ]
  },
  {
   "cell_type": "code",
   "execution_count": null,
   "metadata": {},
   "source": [
    "# Tu respuesta aquí\n",
    "respuesta_4 = 'c'  # Cambia la letra según tu respuesta\n",
    "\n",
    "# Verificar respuesta\n",
    "def verificar_respuesta_4():\n",
    "    if respuesta_4 == 'c':\n",
    "        print(\"¡Correcto! La función len() se usa para obtener la longitud de una cadena de texto.\")\n",
    "        return 1\n",
    "    else:\n",
    "        print(\"Incorrecto. La respuesta correcta es 'c'.\")\n",
    "        return 0\n",
    "\n",
    "puntos_4 = verificar_respuesta_4()"
   ]
  },
  {
   "cell_type": "markdown",
   "metadata": {},
   "source": [
    "### 5. ¿Qué operador se usa para la concatenación de cadenas en Python?\n",
    "\n",
    "a) +\n",
    "b) &\n",
    "c) .\n",
    "d) |"
   ]
  },
  {
   "cell_type": "code",
   "execution_count": null,
   "metadata": {},
   "source": [
    "# Tu respuesta aquí\n",
    "respuesta_5 = 'a'  # Cambia la letra según tu respuesta\n",
    "\n",
    "# Verificar respuesta\n",
    "def verificar_respuesta_5():\n",
    "    if respuesta_5 == 'a':\n",
    "        print(\"¡Correcto! El operador + se usa para concatenar cadenas en Python.\")\n",
    "        return 1\n",
    "    else:\n",
    "        print(\"Incorrecto. La respuesta correcta es 'a'.\")\n",
    "        return 0\n",
    "\n",
    "puntos_5 = verificar_respuesta_5()"
   ]
  },
  {
   "cell_type": "markdown",
   "metadata": {},
   "source": [
    "## Resultado final"
   ]
  },
  {
   "cell_type": "code",
   "execution_count": null,
   "metadata": {},
   "source": [
    "# Calcular puntuación total\n",
    "puntuacion_total = puntos_1 + puntos_2 + puntos_3 + puntos_4 + puntos_5\n",
    "print(f\"\\nTu puntuación total es: {puntuacion_total}/5\")\n",
    "\n",
    "# Mostrar calificación\n",
    "if puntuacion_total == 5:\n",
    "    print(\"¡Excelente! Has dominado los conceptos de estructuras de datos.\")\n",
    "elif puntuacion_total >= 3:\n",
    "    print(\"Buen trabajo, pero hay algunos conceptos que puedes repasar.\")\n",
    "else:\n",
    "    print(\"Te sugiero repasar los conceptos de estructuras de datos en Python.\")"
   ]
  }
 ],
 "metadata": {
  "kernelspec": {
   "display_name": "Python 3",
   "language": "python",
   "name": "python3"
  },
  "language_info": {
   "codemirror_mode": {
    "name": "ipython",
    "version": 3
   },
   "file_extension": ".py",
   "mimetype": "text/x-python",
   "name": "python",
   "nbconvert_exporter": "python",
   "pygments_lexer": "ipython3",
   "version": "3.8.0"
  }
 },
 "nbformat": 4,
 "nbformat_minor": 4
}