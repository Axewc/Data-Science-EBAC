 {
 "cells": [
  {
   "cell_type": "markdown",
   "metadata": {},
   "source": [
    "# Estructuras y Tipos de Datos en Python\n",
    "\n",
    "## Sobre el trayecto\n",
    "\n",
    "En este módulo, aprenderás sobre las diferentes estructuras de datos que Python ofrece para organizar y manipular información de manera eficiente.\n",
    "\n",
    "### Objetivos de aprendizaje\n",
    "\n",
    "- Comprender el concepto de variables, expresiones y enunciados\n",
    "- Dominar el manejo de cadenas de texto\n",
    "- Aprender a trabajar con listas y diccionarios\n",
    "- Entender el uso de tuplas\n",
    "- Aplicar las estructuras de datos en casos prácticos"
   ]
  },
  {
   "cell_type": "markdown",
   "metadata": {},
   "source": [
    "## Variables, Expresiones y Enunciados\n",
    "\n",
    "### Variables\n",
    "\n",
    "Las variables son contenedores para almacenar datos. En Python, las variables:\n",
    "\n",
    "- No necesitan declaración de tipo\n",
    "- Son sensibles a mayúsculas y minúsculas\n",
    "- Pueden contener letras, números y guiones bajos\n",
    "- No pueden comenzar con números"
   ]
  },
  {
   "cell_type": "code",
   "execution_count": null,
   "metadata": {},
   "source": [
    "# Ejemplos de variables válidas y no válidas\n",
    "nombre = \"Ana\"\n",
    "edad = 25\n",
    "altura = 1.65\n",
    "es_estudiante = True\n",
    "\n",
    "# Variables con guiones bajos\n",
    "nombre_completo = \"Ana García\"\n",
    "fecha_nacimiento = \"1998-05-15\"\n",
    "\n",
    "# Imprimir variables\n",
    "print(f\"Nombre: {nombre}\")\n",
    "print(f\"Edad: {edad}\")\n",
    "print(f\"Altura: {altura}\")\n",
    "print(f\"¿Es estudiante?: {es_estudiante}\")"
   ]
  },
  {
   "cell_type": "markdown",
   "metadata": {},
   "source": [
    "### Expresiones\n",
    "\n",
    "Las expresiones son combinaciones de valores, variables y operadores que Python evalúa para producir un resultado:"
   ]
  },
  {
   "cell_type": "code",
   "execution_count": null,
   "metadata": {},
   "source": [
    "# Ejemplos de expresiones\n",
    "x = 5\n",
    "y = 3\n",
    "\n",
    "# Expresiones aritméticas\n",
    "suma = x + y\n",
    "multiplicacion = x * y\n",
    "potencia = x ** y\n",
    "\n",
    "# Expresiones con strings\n",
    "nombre = \"Ana\"\n",
    "apellido = \"García\"\n",
    "nombre_completo = nombre + \" \" + apellido\n",
    "\n",
    "print(f\"Suma: {suma}\")\n",
    "print(f\"Multiplicación: {multiplicacion}\")\n",
    "print(f\"Potencia: {potencia}\")\n",
    "print(f\"Nombre completo: {nombre_completo}\")"
   ]
  },
  {
   "cell_type": "markdown",
   "metadata": {},
   "source": [
    "## Manejo de Cadenas (Strings)\n",
    "\n",
    "Las cadenas son secuencias de caracteres que pueden ser manipuladas de diversas formas:"
   ]
  },
  {
   "cell_type": "code",
   "execution_count": null,
   "metadata": {},
   "source": [
    "# Operaciones con cadenas\n",
    "texto = \"Python es un lenguaje de programación\"\n",
    "\n",
    "# Acceso a caracteres\n",
    "print(f\"Primer carácter: {texto[0]}\")\n",
    "print(f\"Último carácter: {texto[-1]}\")\n",
    "\n",
    "# Slicing (rebanado)\n",
    "print(f\"Primeras 6 letras: {texto[:6]}\")\n",
    "print(f\"Últimas 5 letras: {texto[-5:]}\")\n",
    "\n",
    "# Métodos de cadenas\n",
    "print(f\"Longitud: {len(texto)}\")\n",
    "print(f\"Mayúsculas: {texto.upper()}\")\n",
    "print(f\"Minúsculas: {texto.lower()}\")\n",
    "print(f\"Capitalizado: {texto.capitalize()}\")\n",
    "print(f\"Reemplazar: {texto.replace('Python', 'Java')}\")"
   ]
  },
  {
   "cell_type": "markdown",
   "metadata": {},
   "source": [
    "## Listas\n",
    "\n",
    "Las listas son estructuras de datos mutables que pueden contener elementos de diferentes tipos:"
   ]
  },
  {
   "cell_type": "code",
   "execution_count": null,
   "metadata": {},
   "source": [
    "# Creación y manipulación de listas\n",
    "numeros = [1, 2, 3, 4, 5]\n",
    "frutas = [\"manzana\", \"banana\", \"naranja\"]\n",
    "mixta = [1, \"dos\", 3.0, True]\n",
    "\n",
    "# Operaciones con listas\n",
    "print(f\"Lista original: {numeros}\")\n",
    "numeros.append(6)\n",
    "print(f\"Después de append: {numeros}\")\n",
    "\n",
    "numeros.insert(0, 0)\n",
    "print(f\"Después de insert: {numeros}\")\n",
    "\n",
    "numeros.remove(3)\n",
    "print(f\"Después de remove: {numeros}\")\n",
    "\n",
    "ultimo = numeros.pop()\n",
    "print(f\"Elemento eliminado: {ultimo}\")\n",
    "print(f\"Lista después de pop: {numeros}\")"
   ]
  },
  {
   "cell_type": "markdown",
   "metadata": {},
   "source": [
    "## Diccionarios\n",
    "\n",
    "Los diccionarios son estructuras de datos que almacenan pares clave-valor:"
   ]
  },
  {
   "cell_type": "code",
   "execution_count": null,
   "metadata": {},
   "source": [
    "# Creación y manipulación de diccionarios\n",
    "estudiante = {\n",
    "    \"nombre\": \"Ana\",\n",
    "    \"edad\": 25,\n",
    "    \"cursos\": [\"Python\", \"SQL\", \"Machine Learning\"]\n",
    "}\n",
    "\n",
    "# Acceso a valores\n",
    "print(f\"Nombre: {estudiante['nombre']}\")\n",
    "print(f\"Edad: {estudiante['edad']}\")\n",
    "print(f\"Cursos: {estudiante['cursos']}\")\n",
    "\n",
    "# Modificar valores\n",
    "estudiante['edad'] = 26\n",
    "estudiante['cursos'].append('Deep Learning')\n",
    "\n",
    "# Agregar nueva clave-valor\n",
    "estudiante['ciudad'] = 'Madrid'\n",
    "\n",
    "print(\"\\nDiccionario actualizado:\")\n",
    "for clave, valor in estudiante.items():\n",
    "    print(f\"{clave}: {valor}\")"
   ]
  },
  {
   "cell_type": "markdown",
   "metadata": {},
   "source": [
    "## Tuplas\n",
    "\n",
    "Las tuplas son estructuras de datos inmutables, similares a las listas pero que no pueden modificarse:"
   ]
  },
  {
   "cell_type": "code",
   "execution_count": null,
   "metadata": {},
   "source": [
    "# Creación y uso de tuplas\n",
    "coordenadas = (10, 20)\n",
    "rgb = (255, 128, 0)\n",
    "\n",
    "# Acceso a elementos\n",
    "print(f\"Coordenadas: {coordenadas}\")\n",
    "print(f\"X: {coordenadas[0]}\")\n",
    "print(f\"Y: {coordenadas[1]}\")\n",
    "\n",
    "# Desempaquetado de tuplas\n",
    "x, y = coordenadas\n",
    "r, g, b = rgb\n",
    "\n",
    "print(f\"\\nDesempaquetado:\")\n",
    "print(f\"X: {x}, Y: {y}\")\n",
    "print(f\"RGB: {r}, {g}, {b}\")"
   ]
  },
  {
   "cell_type": "markdown",
   "metadata": {},
   "source": [
    "## Buenas Prácticas\n",
    "\n",
    "1. **Nombres descriptivos**: Usa nombres que indiquen claramente el propósito de la variable\n",
    "2. **Inmutabilidad**: Usa tuplas cuando los datos no deben cambiar\n",
    "3. **Estructura de datos apropiada**: Elige la estructura que mejor se adapte a tus necesidades\n",
    "4. **Documentación**: Comenta el código para explicar decisiones importantes"
   ]
  },
  {
   "cell_type": "markdown",
   "metadata": {},
   "source": [
    "## Ejercicios Prácticos\n",
    "\n",
    "### Ejercicio 1: Manipulación de Cadenas\n",
    "\n",
    "Crea un programa que:\n",
    "1. Tome una cadena de texto\n",
    "2. Cuente las vocales\n",
    "3. Invierta el texto\n",
    "4. Reemplace las vocales por asteriscos"
   ]
  },
  {
   "cell_type": "code",
   "execution_count": null,
   "metadata": {},
   "source": [
    "# Solución del ejercicio 1\n",
    "def manipular_texto(texto):\n",
    "    # Contar vocales\n",
    "    vocales = sum(1 for c in texto.lower() if c in 'aeiouáéíóú')\n",
    "    print(f\"Número de vocales: {vocales}\")\n",
    "    \n",
    "    # Invertir texto\n",
    "    texto_invertido = texto[::-1]\n",
    "    print(f\"Texto invertido: {texto_invertido}\")\n",
    "    \n",
    "    # Reemplazar vocales\n",
    "    texto_reemplazado = ''.join('*' if c.lower() in 'aeiouáéíóú' else c for c in texto)\n",
    "    print(f\"Texto con vocales reemplazadas: {texto_reemplazado}\")\n",
    "\n",
    "# Ejemplo de uso\n",
    "texto = \"¡Hola, Mundo!\"\n",
    "manipular_texto(texto)"
   ]
  }
 ],
 "metadata": {
  "kernelspec": {
   "display_name": "Python 3",
   "language": "python",
   "name": "python3"
  },
  "language_info": {
   "codemirror_mode": {
    "name": "ipython",
    "version": 3
   },
   "file_extension": ".py",
   "mimetype": "text/x-python",
   "name": "python",
   "nbconvert_exporter": "python",
   "pygments_lexer": "ipython3",
   "version": "3.8.0"
  }
 },
 "nbformat": 4,
 "nbformat_minor": 4
}