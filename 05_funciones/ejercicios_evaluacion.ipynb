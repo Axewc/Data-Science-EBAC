{
 "cells": [
  {
   "cell_type": "markdown",
   "metadata": {},
   "source": [
    "# Ejercicios de Evaluación - Funciones\n",
    "\n",
    "## Instrucciones\n",
    "\n",
    "1. Lea cuidadosamente cada pregunta\n",
    "2. Complete el código donde se indique\n",
    "3. Asegúrese de que su código maneje todos los casos posibles\n",
    "4. Incluya comentarios explicativos en su código\n",
    "5. Pruebe su código con diferentes casos de entrada"
   ]
  },
  {
   "cell_type": "markdown",
   "metadata": {},
   "source": [
    "## Ejercicio 1: Calculadora de Factorial\n",
    "\n",
    "Complete la función `factorial` que debe:\n",
    "1. Calcular el factorial de un número usando recursividad\n",
    "2. Manejar números negativos\n",
    "3. Manejar el caso especial de 0\n",
    "4. Retornar el resultado"
   ]
  },
  {
   "cell_type": "code",
   "execution_count": null,
   "metadata": {},
   "source": [
    "def factorial(n):\n",
    "    # Su código aquí\n",
    "    pass\n",
    "\n",
    "# Pruebas\n",
    "assert factorial(0) == 1\n",
    "assert factorial(1) == 1\n",
    "assert factorial(5) == 120\n",
    "assert factorial(3) == 6\n",
    "print(\"¡Todas las pruebas pasaron!\")"
   ]
  },
  {
   "cell_type": "markdown",
   "metadata": {},
   "source": [
    "## Ejercicio 2: Validador de Contraseña\n",
    "\n",
    "Complete la función `validar_password` que debe verificar si una contraseña cumple con los siguientes requisitos:\n",
    "1. Al menos 8 caracteres\n",
    "2. Al menos una mayúscula\n",
    "3. Al menos una minúscula\n",
    "4. Al menos un número\n",
    "5. Al menos un carácter especial"
   ]
  },
  {
   "cell_type": "code",
   "execution_count": null,
   "metadata": {},
   "source": [
    "def validar_password(password):\n",
    "    # Su código aquí\n",
    "    pass\n",
    "\n",
    "# Pruebas\n",
    "assert validar_password(\"Abc123!@#\") == True\n",
    "assert validar_password(\"abc123\") == False\n",
    "assert validar_password(\"ABC123!@#\") == False\n",
    "assert validar_password(\"Abc123\") == False\n",
    "print(\"¡Todas las pruebas pasaron!\")"
   ]
  },
  {
   "cell_type": "markdown",
   "metadata": {},
   "source": [
    "## Ejercicio 3: Calculadora de Promedio\n",
    "\n",
    "Complete la función `calcular_promedio` que debe:\n",
    "1. Calcular el promedio de una lista de números\n",
    "2. Manejar listas vacías\n",
    "3. Manejar valores no numéricos\n",
    "4. Redondear el resultado a 2 decimales"
   ]
  },
  {
   "cell_type": "code",
   "execution_count": null,
   "metadata": {},
   "source": [
    "def calcular_promedio(numeros):\n",
    "    # Su código aquí\n",
    "    pass\n",
    "\n",
    "# Pruebas\n",
    "assert calcular_promedio([1, 2, 3, 4, 5]) == 3.0\n",
    "assert calcular_promedio([1.5, 2.5, 3.5]) == 2.5\n",
    "assert calcular_promedio([]) == 0\n",
    "print(\"¡Todas las pruebas pasaron!\")"
   ]
  },
  {
   "cell_type": "markdown",
   "metadata": {},
   "source": [
    "## Ejercicio 4: Generador de Secuencia\n",
    "\n",
    "Complete la función `generar_secuencia` que debe:\n",
    "1. Generar una secuencia de números\n",
    "2. Usar parámetros por defecto\n",
    "3. Manejar diferentes tipos de secuencias\n",
    "4. Retornar la secuencia como una lista"
   ]
  },
  {
   "cell_type": "code",
   "execution_count": null,
   "metadata": {},
   "source": [
    "def generar_secuencia(inicio=0, fin=10, paso=1):\n",
    "    # Su código aquí\n",
    "    pass\n",
    "\n",
    "# Pruebas\n",
    "assert generar_secuencia() == [0, 1, 2, 3, 4, 5, 6, 7, 8, 9]\n",
    "assert generar_secuencia(1, 6) == [1, 2, 3, 4, 5]\n",
    "assert generar_secuencia(0, 10, 2) == [0, 2, 4, 6, 8]\n",
    "print(\"¡Todas las pruebas pasaron!\")"
   ]
  }
 ],
 "metadata": {
  "kernelspec": {
   "display_name": "Python 3",
   "language": "python",
   "name": "python3"
  },
  "language_info": {
   "codemirror_mode": {
    "name": "ipython",
    "version": 3
   },
   "file_extension": ".py",
   "mimetype": "text/x-python",
   "name": "python",
   "nbconvert_exporter": "python",
   "pygments_lexer": "ipython3",
   "version": "3.8.0"
  }
 },
 "nbformat": 4,
 "nbformat_minor": 4
} 