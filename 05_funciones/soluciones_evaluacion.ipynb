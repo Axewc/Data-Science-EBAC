 {
 "cells": [
  {
   "cell_type": "markdown",
   "metadata": {},
   "source": [
    "# Soluciones - Ejercicios de Evaluación - Funciones\n",
    "\n",
    "## Ejercicio 1: Calculadora de Factorial"
   ]
  },
  {
   "cell_type": "code",
   "execution_count": null,
   "metadata": {},
   "source": [
    "def factorial(n):\n",
    "    # Manejar números negativos\n",
    "    if n < 0:\n",
    "        raise ValueError(\"El factorial no está definido para números negativos\")\n",
    "    \n",
    "    # Casos base\n",
    "    if n == 0 or n == 1:\n",
    "        return 1\n",
    "    \n",
    "    # Caso recursivo\n",
    "    return n * factorial(n - 1)\n",
    "\n",
    "# Pruebas\n",
    "assert factorial(0) == 1\n",
    "assert factorial(1) == 1\n",
    "assert factorial(5) == 120\n",
    "assert factorial(3) == 6\n",
    "print(\"¡Todas las pruebas pasaron!\")"
   ]
  },
  {
   "cell_type": "markdown",
   "metadata": {},
   "source": [
    "## Ejercicio 2: Validador de Contraseña"
   ]
  },
  {
   "cell_type": "code",
   "execution_count": null,
   "metadata": {},
   "source": [
    "def validar_password(password):\n",
    "    # Verificar longitud mínima\n",
    "    if len(password) < 8:\n",
    "        return False\n",
    "    \n",
    "    # Verificar mayúsculas\n",
    "    if not any(c.isupper() for c in password):\n",
    "        return False\n",
    "    \n",
    "    # Verificar minúsculas\n",
    "    if not any(c.islower() for c in password):\n",
    "        return False\n",
    "    \n",
    "    # Verificar números\n",
    "    if not any(c.isdigit() for c in password):\n",
    "        return False\n",
    "    \n",
    "    # Verificar caracteres especiales\n",
    "    if not any(c in '!@#$%^&*()_+-=[]{}|;:,.<>?' for c in password):\n",
    "        return False\n",
    "    \n",
    "    return True\n",
    "\n",
    "# Pruebas\n",
    "assert validar_password(\"Abc123!@#\") == True\n",
    "assert validar_password(\"abc123\") == False\n",
    "assert validar_password(\"ABC123!@#\") == False\n",
    "assert validar_password(\"Abc123\") == False\n",
    "print(\"¡Todas las pruebas pasaron!\")"
   ]
  },
  {
   "cell_type": "markdown",
   "metadata": {},
   "source": [
    "## Ejercicio 3: Calculadora de Promedio"
   ]
  },
  {
   "cell_type": "code",
   "execution_count": null,
   "metadata": {},
   "source": [
    "def calcular_promedio(numeros):\n",
    "    # Manejar lista vacía\n",
    "    if not numeros:\n",
    "        return 0\n",
    "    \n",
    "    # Verificar que todos los elementos sean numéricos\n",
    "    try:\n",
    "        suma = sum(numeros)\n",
    "        promedio = suma / len(numeros)\n",
    "        return round(promedio, 2)\n",
    "    except TypeError:\n",
    "        raise ValueError(\"Todos los elementos deben ser números\")\n",
    "\n",
    "# Pruebas\n",
    "assert calcular_promedio([1, 2, 3, 4, 5]) == 3.0\n",
    "assert calcular_promedio([1.5, 2.5, 3.5]) == 2.5\n",
    "assert calcular_promedio([]) == 0\n",
    "print(\"¡Todas las pruebas pasaron!\")"
   ]
  },
  {
   "cell_type": "markdown",
   "metadata": {},
   "source": [
    "## Ejercicio 4: Generador de Secuencia"
   ]
  },
  {
   "cell_type": "code",
   "execution_count": null,
   "metadata": {},
   "source": [
    "def generar_secuencia(inicio=0, fin=10, paso=1):\n",
    "    # Generar la secuencia usando range\n",
    "    secuencia = list(range(inicio, fin, paso))\n",
    "    return secuencia\n",
    "\n",
    "# Pruebas\n",
    "assert generar_secuencia() == [0, 1, 2, 3, 4, 5, 6, 7, 8, 9]\n",
    "assert generar_secuencia(1, 6) == [1, 2, 3, 4, 5]\n",
    "assert generar_secuencia(0, 10, 2) == [0, 2, 4, 6, 8]\n",
    "print(\"¡Todas las pruebas pasaron!\")"
   ]
  }
 ],
 "metadata": {
  "kernelspec": {
   "display_name": "Python 3",
   "language": "python",
   "name": "python3"
  },
  "language_info": {
   "codemirror_mode": {
    "name": "ipython",
    "version": 3
   },
   "file_extension": ".py",
   "mimetype": "text/x-python",
   "name": "python",
   "nbconvert_exporter": "python",
   "pygments_lexer": "ipython3",
   "version": "3.8.0"
  }
 },
 "nbformat": 4,
 "nbformat_minor": 4
}