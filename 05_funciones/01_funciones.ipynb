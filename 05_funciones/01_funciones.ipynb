{
 "cells": [
  {
   "cell_type": "markdown",
   "metadata": {},
   "source": [
    "# Funciones en Python\n",
    "\n",
    "## Sobre el trayecto\n",
    "\n",
    "En este módulo, aprenderás sobre las funciones en Python, desde su motivación y propósito hasta conceptos avanzados como la recursividad.\n",
    "\n",
    "### Objetivos de aprendizaje\n",
    "\n",
    "- Comprender el propósito y tipos de funciones en Python\n",
    "- Dominar el uso de parámetros y argumentos\n",
    "- Aprender sobre recursividad y sus aplicaciones\n",
    "- Implementar buenas prácticas en la creación de funciones"
   ]
  },
  {
   "cell_type": "markdown",
   "metadata": {},
   "source": [
    "## Motivación y Propósito de las Funciones\n",
    "\n",
    "Las funciones son bloques de código reutilizables que:\n",
    "1. Mejoran la legibilidad del código\n",
    "2. Evitan la duplicación de código\n",
    "3. Facilitan el mantenimiento\n",
    "4. Permiten la modularización"
   ]
  },
  {
   "cell_type": "code",
   "execution_count": null,
   "metadata": {},
   "source": [
    "# Ejemplo de código sin funciones\n",
    "print(\"¡Hola, Juan!\")\n",
    "print(\"¡Hola, María!\")\n",
    "print(\"¡Hola, Carlos!\")\n",
    "\n",
    "# Mismo código usando una función\n",
    "def saludar(nombre):\n",
    "    print(f\"¡Hola, {nombre}!\")\n",
    "\n",
    "saludar(\"Juan\")\n",
    "saludar(\"María\")\n",
    "saludar(\"Carlos\")"
   ]
  },
  {
   "cell_type": "markdown",
   "metadata": {},
   "source": [
    "## Tipos de Funciones\n",
    "\n",
    "### 1. Funciones sin parámetros y sin retorno"
   ]
  },
  {
   "cell_type": "code",
   "execution_count": null,
   "metadata": {},
   "source": [
    "def mostrar_mensaje():\n",
    "    print(\"¡Bienvenido al curso de Python!\")\n",
    "\n",
    "mostrar_mensaje()"
   ]
  },
  {
   "cell_type": "markdown",
   "metadata": {},
   "source": [
    "### 2. Funciones con parámetros y sin retorno"
   ]
  },
  {
   "cell_type": "code",
   "execution_count": null,
   "metadata": {},
   "source": [
    "def mostrar_suma(a, b):\n",
    "    print(f\"La suma de {a} y {b} es: {a + b}\")\n",
    "\n",
    "mostrar_suma(5, 3)"
   ]
  },
  {
   "cell_type": "markdown",
   "metadata": {},
   "source": [
    "### 3. Funciones con parámetros y con retorno"
   ]
  },
  {
   "cell_type": "code",
   "execution_count": null,
   "metadata": {},
   "source": [
    "def calcular_suma(a, b):\n",
    "    return a + b\n",
    "\n",
    "resultado = calcular_suma(5, 3)\n",
    "print(f\"El resultado es: {resultado}\")"
   ]
  },
  {
   "cell_type": "markdown",
   "metadata": {},
   "source": [
    "## Parámetros y Argumentos\n",
    "\n",
    "### Parámetros por posición"
   ]
  },
  {
   "cell_type": "code",
   "execution_count": null,
   "metadata": {},
   "source": [
    "def crear_perfil(nombre, edad, ciudad):\n",
    "    print(f\"Nombre: {nombre}\")\n",
    "    print(f\"Edad: {edad}\")\n",
    "    print(f\"Ciudad: {ciudad}\")\n",
    "\n",
    "# Argumentos por posición\n",
    "crear_perfil(\"Ana\", 25, \"Madrid\")\n",
    "\n",
    "# Argumentos por nombre\n",
    "crear_perfil(ciudad=\"Barcelona\", nombre=\"Juan\", edad=30)"
   ]
  },
  {
   "cell_type": "markdown",
   "metadata": {},
   "source": [
    "### Parámetros por defecto"
   ]
  },
  {
   "cell_type": "code",
   "execution_count": null,
   "metadata": {},
   "source": [
    "def saludar(nombre, saludo=\"¡Hola!\"):\n",
    "    print(f\"{saludo}, {nombre}!\")\n",
    "\n",
    "# Usando el saludo por defecto\n",
    "saludar(\"María\")\n",
    "\n",
    "# Especificando un saludo personalizado\n",
    "saludar(\"Juan\", \"¡Buenos días!\")"
   ]
  },
  {
   "cell_type": "markdown",
   "metadata": {},
   "source": [
    "### Parámetros arbitrarios"
   ]
  },
  {
   "cell_type": "code",
   "execution_count": null,
   "metadata": {},
   "source": [
    "def sumar_numeros(*numeros):\n",
    "    return sum(numeros)\n",
    "\n",
    "print(sumar_numeros(1, 2, 3, 4, 5))\n",
    "\n",
    "def crear_perfil(**datos):\n",
    "    for clave, valor in datos.items():\n",
    "        print(f\"{clave}: {valor}\")\n",
    "\n",
    "crear_perfil(nombre=\"Ana\", edad=25, ciudad=\"Madrid\", hobby=\"Pintura\")"
   ]
  },
  {
   "cell_type": "markdown",
   "metadata": {},
   "source": [
    "## Recursividad\n",
    "\n",
    "La recursividad es una técnica donde una función se llama a sí misma."
   ]
  },
  {
   "cell_type": "code",
   "execution_count": null,
   "metadata": {},
   "source": [
    "# Ejemplo de factorial recursivo\n",
    "def factorial(n):\n",
    "    if n == 0 or n == 1:\n",
    "        return 1\n",
    "    return n * factorial(n - 1)\n",
    "\n",
    "print(f\"El factorial de 5 es: {factorial(5)}\")\n",
    "\n",
    "# Ejemplo de Fibonacci recursivo\n",
    "def fibonacci(n):\n",
    "    if n <= 1:\n",
    "        return n\n",
    "    return fibonacci(n-1) + fibonacci(n-2)\n",
    "\n",
    "print(f\"El número de Fibonacci en la posición 6 es: {fibonacci(6)}\")"
   ]
  },
  {
   "cell_type": "markdown",
   "metadata": {},
   "source": [
    "## Buenas Prácticas\n",
    "\n",
    "1. **Nombres descriptivos**: Usar nombres que indiquen claramente la función del código\n",
    "2. **Documentación**: Incluir docstrings explicando el propósito y uso\n",
    "3. **Responsabilidad única**: Cada función debe hacer una cosa bien\n",
    "4. **Parámetros razonables**: No usar demasiados parámetros\n",
    "5. **Manejo de errores**: Incluir validaciones y excepciones"
   ]
  },
  {
   "cell_type": "code",
   "execution_count": null,
   "metadata": {},
   "source": [
    "def calcular_promedio(notas):\n",
    "    \"\"\"\n",
    "    Calcula el promedio de una lista de notas.\n",
    "    \n",
    "    Args:\n",
    "        notas (list): Lista de notas numéricas\n",
    "    \n",
    "    Returns:\n",
    "        float: Promedio de las notas\n",
    "    \n",
    "    Raises:\n",
    "        ValueError: Si la lista está vacía o contiene valores no numéricos\n",
    "    \"\"\"\n",
    "    if not notas:\n",
    "        raise ValueError(\"La lista de notas no puede estar vacía\")\n",
    "    \n",
    "    try:\n",
    "        return sum(notas) / len(notas)\n",
    "    except TypeError:\n",
    "        raise ValueError(\"Todas las notas deben ser números\")"
   ]
  }
 ],
 "metadata": {
  "kernelspec": {
   "display_name": "Python 3",
   "language": "python",
   "name": "python3"
  },
  "language_info": {
   "codemirror_mode": {
    "name": "ipython",
    "version": 3
   },
   "file_extension": ".py",
   "mimetype": "text/x-python",
   "name": "python",
   "nbconvert_exporter": "python",
   "pygments_lexer": "ipython3",
   "version": "3.8.0"
  }
 },
 "nbformat": 4,
 "nbformat_minor": 4
} 